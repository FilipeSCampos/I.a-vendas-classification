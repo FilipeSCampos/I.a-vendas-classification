{
 "cells": [
  {
   "cell_type": "code",
   "execution_count": 2,
   "id": "148f32ae",
   "metadata": {
    "scrolled": true
   },
   "outputs": [],
   "source": [
    "import pandas as pd\n",
    "import numpy as np\n",
    "import matplotlib.pyplot as plt\n",
    "import seaborn as sns\n",
    "\n",
    "from sklearn.preprocessing import LabelEncoder, OneHotEncoder, StandardScaler\n",
    "from sklearn.model_selection import train_test_split\n",
    "from sklearn.model_selection import GridSearchCV, StratifiedKFold, StratifiedShuffleSplit\n",
    "\n",
    "from sklearn.linear_model import LogisticRegression\n",
    "from sklearn.neighbors import KNeighborsClassifier\n",
    "from sklearn.naive_bayes import GaussianNB\n",
    "from sklearn.svm import SVC\n",
    "from sklearn.tree import DecisionTreeClassifier\n",
    "from sklearn.ensemble import RandomForestClassifier\n",
    "\n",
    "from sklearn.neural_network import MLPClassifier\n",
    "\n",
    "from sklearn.metrics import mean_absolute_error, accuracy_score, classification_report, confusion_matrix"
   ]
  },
  {
   "cell_type": "code",
   "execution_count": 67,
   "id": "7264d06e",
   "metadata": {},
   "outputs": [
    {
     "name": "stdout",
     "output_type": "stream",
     "text": [
      "Defaulting to user installation because normal site-packages is not writeable\n",
      "Requirement already satisfied: xgboost in c:\\users\\filipe.sampaio\\appdata\\roaming\\python\\python39\\site-packages (2.0.0)\n",
      "Requirement already satisfied: scipy in c:\\programdata\\anaconda3\\lib\\site-packages (from xgboost) (1.7.3)\n",
      "Requirement already satisfied: numpy in c:\\programdata\\anaconda3\\lib\\site-packages (from xgboost) (1.21.5)\n"
     ]
    }
   ],
   "source": [
    "!pip install xgboost"
   ]
  },
  {
   "cell_type": "code",
   "execution_count": 3,
   "id": "1bd72df8",
   "metadata": {},
   "outputs": [],
   "source": [
    "df = pd.read_csv('train.csv')"
   ]
  },
  {
   "cell_type": "code",
   "execution_count": 4,
   "id": "f6f92df2",
   "metadata": {},
   "outputs": [],
   "source": [
    "df = df.drop(['Unnamed: 0'], axis = 1)"
   ]
  },
  {
   "cell_type": "code",
   "execution_count": 5,
   "id": "1ec49af7",
   "metadata": {},
   "outputs": [
    {
     "data": {
      "text/html": [
       "<div>\n",
       "<style scoped>\n",
       "    .dataframe tbody tr th:only-of-type {\n",
       "        vertical-align: middle;\n",
       "    }\n",
       "\n",
       "    .dataframe tbody tr th {\n",
       "        vertical-align: top;\n",
       "    }\n",
       "\n",
       "    .dataframe thead th {\n",
       "        text-align: right;\n",
       "    }\n",
       "</style>\n",
       "<table border=\"1\" class=\"dataframe\">\n",
       "  <thead>\n",
       "    <tr style=\"text-align: right;\">\n",
       "      <th></th>\n",
       "      <th>VENDIDO</th>\n",
       "    </tr>\n",
       "  </thead>\n",
       "  <tbody>\n",
       "    <tr>\n",
       "      <th>count</th>\n",
       "      <td>78331.00000</td>\n",
       "    </tr>\n",
       "    <tr>\n",
       "      <th>mean</th>\n",
       "      <td>0.60732</td>\n",
       "    </tr>\n",
       "    <tr>\n",
       "      <th>std</th>\n",
       "      <td>0.48835</td>\n",
       "    </tr>\n",
       "    <tr>\n",
       "      <th>min</th>\n",
       "      <td>0.00000</td>\n",
       "    </tr>\n",
       "    <tr>\n",
       "      <th>25%</th>\n",
       "      <td>0.00000</td>\n",
       "    </tr>\n",
       "    <tr>\n",
       "      <th>50%</th>\n",
       "      <td>1.00000</td>\n",
       "    </tr>\n",
       "    <tr>\n",
       "      <th>75%</th>\n",
       "      <td>1.00000</td>\n",
       "    </tr>\n",
       "    <tr>\n",
       "      <th>max</th>\n",
       "      <td>1.00000</td>\n",
       "    </tr>\n",
       "  </tbody>\n",
       "</table>\n",
       "</div>"
      ],
      "text/plain": [
       "           VENDIDO\n",
       "count  78331.00000\n",
       "mean       0.60732\n",
       "std        0.48835\n",
       "min        0.00000\n",
       "25%        0.00000\n",
       "50%        1.00000\n",
       "75%        1.00000\n",
       "max        1.00000"
      ]
     },
     "execution_count": 5,
     "metadata": {},
     "output_type": "execute_result"
    }
   ],
   "source": [
    "df.describe()"
   ]
  },
  {
   "cell_type": "code",
   "execution_count": 6,
   "id": "a9df76c5",
   "metadata": {},
   "outputs": [
    {
     "name": "stdout",
     "output_type": "stream",
     "text": [
      "<class 'pandas.core.frame.DataFrame'>\n",
      "RangeIndex: 78331 entries, 0 to 78330\n",
      "Data columns (total 9 columns):\n",
      " #   Column            Non-Null Count  Dtype \n",
      "---  ------            --------------  ----- \n",
      " 0   marca             77973 non-null  object\n",
      " 1   nomeDaPeca        78331 non-null  object\n",
      " 2   precoComDesconto  78331 non-null  object\n",
      " 3   precoSemDesconto  76821 non-null  object\n",
      " 4   Descricao         78323 non-null  object\n",
      " 5   Tamanho           78055 non-null  object\n",
      " 6   Condicao          78331 non-null  object\n",
      " 7   Cores             76728 non-null  object\n",
      " 8   VENDIDO           78331 non-null  int64 \n",
      "dtypes: int64(1), object(8)\n",
      "memory usage: 5.4+ MB\n"
     ]
    }
   ],
   "source": [
    "df.info()"
   ]
  },
  {
   "cell_type": "code",
   "execution_count": 7,
   "id": "521dcfc5",
   "metadata": {},
   "outputs": [],
   "source": [
    "df['precoComDesconto'] = pd.to_numeric(df['precoComDesconto'].str.replace('[^0-9.]', '', regex=True), errors='coerce')\n",
    "df['precoSemDesconto'] = pd.to_numeric(df['precoSemDesconto'].str.replace('[^0-9.]', '', regex=True), errors='coerce')\n"
   ]
  },
  {
   "cell_type": "code",
   "execution_count": 8,
   "id": "a189eda3",
   "metadata": {},
   "outputs": [],
   "source": [
    "df['precoComDesconto'] = pd.to_numeric(df['precoComDesconto'])\n",
    "df['precoSemDesconto'] = pd.to_numeric(df['precoSemDesconto'])\n"
   ]
  },
  {
   "cell_type": "code",
   "execution_count": 9,
   "id": "0943ec14",
   "metadata": {},
   "outputs": [
    {
     "data": {
      "text/plain": [
       "array(['m', '38', ' 39', 'p', ' 38', ' 36', ' U', 'u', '34', ' M', '36',\n",
       "       ' 42', 'g', 'pp', '42', ' 35', '40', ' P', '6', nan, '14', ' 34',\n",
       "       ' 40', ' G', 'gg', '44', '3m', '50', '3', '4', ' PP', '8', '33',\n",
       "       ' 6M', ' 3M', ' 10M', ' 12M', '12', '37', '35', '48', '16', ' RN',\n",
       "       '2a', ' GG', ' 37', ' 44', '1', 'rn', '6m', '32', '21', '12m',\n",
       "       'xgg', '18m', ' 8A', '7', ' 12A', '9m', '46', ' 2A', '5', '2',\n",
       "       '39', '54', ' 20', ' 1A', ' 10A', ' 18', '10', '29', ' 4A', '30',\n",
       "       ' 50', ' 6A', ' 48', ' 46', ' 16', '52', '11', ' 17', ' 33', '13',\n",
       "       '22', ' 14A', '41', '20', '9', ' 21', ' 19', '31', '25', ' 41',\n",
       "       '58', '17', ' 13', ' 26', '19', '28', '23', '26', ' 14', ' 4',\n",
       "       '24', '43', ' 3A', ' 32', '56', ' 1', ' XLG', ' 23', ' 15', 'M',\n",
       "       '27', '18', ' G3', ' 24', '15', ' 54', ' 3', ' 56', ' G4', '45',\n",
       "       ' 5G', ' 28', '60', ' 27', 'P'], dtype=object)"
      ]
     },
     "execution_count": 9,
     "metadata": {},
     "output_type": "execute_result"
    }
   ],
   "source": [
    "df['Tamanho'].unique()"
   ]
  },
  {
   "cell_type": "code",
   "execution_count": 10,
   "id": "862bd7fd",
   "metadata": {},
   "outputs": [
    {
     "data": {
      "text/html": [
       "<div>\n",
       "<style scoped>\n",
       "    .dataframe tbody tr th:only-of-type {\n",
       "        vertical-align: middle;\n",
       "    }\n",
       "\n",
       "    .dataframe tbody tr th {\n",
       "        vertical-align: top;\n",
       "    }\n",
       "\n",
       "    .dataframe thead th {\n",
       "        text-align: right;\n",
       "    }\n",
       "</style>\n",
       "<table border=\"1\" class=\"dataframe\">\n",
       "  <thead>\n",
       "    <tr style=\"text-align: right;\">\n",
       "      <th></th>\n",
       "      <th>marca</th>\n",
       "      <th>nomeDaPeca</th>\n",
       "      <th>precoComDesconto</th>\n",
       "      <th>precoSemDesconto</th>\n",
       "      <th>Descricao</th>\n",
       "      <th>Tamanho</th>\n",
       "      <th>Condicao</th>\n",
       "      <th>Cores</th>\n",
       "      <th>VENDIDO</th>\n",
       "    </tr>\n",
       "  </thead>\n",
       "  <tbody>\n",
       "    <tr>\n",
       "      <th>0</th>\n",
       "      <td>sem marca</td>\n",
       "      <td>\\nBlusa Verde Babados\\n</td>\n",
       "      <td>64.00</td>\n",
       "      <td>160.0</td>\n",
       "      <td>Blusa verde com modelagem básica. Peça com bab...</td>\n",
       "      <td>m</td>\n",
       "      <td>gentilmente usada</td>\n",
       "      <td>verde</td>\n",
       "      <td>0</td>\n",
       "    </tr>\n",
       "    <tr>\n",
       "      <th>1</th>\n",
       "      <td>zara</td>\n",
       "      <td>\\nSaia Lápis Zara\\n</td>\n",
       "      <td>57.00</td>\n",
       "      <td>219.0</td>\n",
       "      <td>Marca: Zara Woman</td>\n",
       "      <td>38</td>\n",
       "      <td>gentilmente usada</td>\n",
       "      <td>Detalhe: Dois bolsos frontais, forro, zíper tr...</td>\n",
       "      <td>1</td>\n",
       "    </tr>\n",
       "    <tr>\n",
       "      <th>2</th>\n",
       "      <td>1 a 9</td>\n",
       "      <td>\\nJeans Skinny 1 a 9\\n</td>\n",
       "      <td>69.00</td>\n",
       "      <td>279.0</td>\n",
       "      <td>Medidas: cintura 32cm, quadril 43cm, comprime...</td>\n",
       "      <td>38</td>\n",
       "      <td>gentilmente usada</td>\n",
       "      <td>azul</td>\n",
       "      <td>0</td>\n",
       "    </tr>\n",
       "    <tr>\n",
       "      <th>3</th>\n",
       "      <td>Coach</td>\n",
       "      <td>Sapatilha Monograma</td>\n",
       "      <td>25000.00</td>\n",
       "      <td>87500.0</td>\n",
       "      <td>Sapatilha caramelo. Possui monograma em toda a...</td>\n",
       "      <td>39</td>\n",
       "      <td>Usado</td>\n",
       "      <td>\\nCaramelo \\nPreto \\n</td>\n",
       "      <td>1</td>\n",
       "    </tr>\n",
       "    <tr>\n",
       "      <th>4</th>\n",
       "      <td>primeiro item teen</td>\n",
       "      <td>\\nShorts Feminino Teen Corações\\n</td>\n",
       "      <td>20.97</td>\n",
       "      <td>69.9</td>\n",
       "      <td>Shorts feminino, com estampa de corações, do P...</td>\n",
       "      <td>m</td>\n",
       "      <td>gentilmente usada</td>\n",
       "      <td>colorido</td>\n",
       "      <td>0</td>\n",
       "    </tr>\n",
       "    <tr>\n",
       "      <th>...</th>\n",
       "      <td>...</td>\n",
       "      <td>...</td>\n",
       "      <td>...</td>\n",
       "      <td>...</td>\n",
       "      <td>...</td>\n",
       "      <td>...</td>\n",
       "      <td>...</td>\n",
       "      <td>...</td>\n",
       "      <td>...</td>\n",
       "    </tr>\n",
       "    <tr>\n",
       "      <th>78326</th>\n",
       "      <td>mandi</td>\n",
       "      <td>\\nCamisa Preta Mandi\\n</td>\n",
       "      <td>15.00</td>\n",
       "      <td>69.9</td>\n",
       "      <td>Camisa feminina, preta, da Mandi. Tecido plano...</td>\n",
       "      <td>m</td>\n",
       "      <td>gentilmente usada</td>\n",
       "      <td>preto</td>\n",
       "      <td>0</td>\n",
       "    </tr>\n",
       "    <tr>\n",
       "      <th>78327</th>\n",
       "      <td>mo</td>\n",
       "      <td>\\nSaia Branca Bordada\\n</td>\n",
       "      <td>33.75</td>\n",
       "      <td>135.0</td>\n",
       "      <td>Saia branca com bordados em linha prata, azul ...</td>\n",
       "      <td>p</td>\n",
       "      <td>gentilmente usada</td>\n",
       "      <td>branco</td>\n",
       "      <td>1</td>\n",
       "    </tr>\n",
       "    <tr>\n",
       "      <th>78328</th>\n",
       "      <td>luigi bertolli</td>\n",
       "      <td>\\nVestido Floral Preto e Vermelho Luigi Bertol...</td>\n",
       "      <td>27.48</td>\n",
       "      <td>89.9</td>\n",
       "      <td>Vestido preto com flores vermelhas, da Luigi B...</td>\n",
       "      <td>gg</td>\n",
       "      <td>gentilmente usada</td>\n",
       "      <td>colorido</td>\n",
       "      <td>1</td>\n",
       "    </tr>\n",
       "    <tr>\n",
       "      <th>78329</th>\n",
       "      <td>Zara</td>\n",
       "      <td>Blazer Tweed Bege</td>\n",
       "      <td>7000.00</td>\n",
       "      <td>28000.0</td>\n",
       "      <td>Blazer em tweed, nas cores bege e dourado. Pos...</td>\n",
       "      <td>P</td>\n",
       "      <td>Usado</td>\n",
       "      <td>\\nBege \\n</td>\n",
       "      <td>1</td>\n",
       "    </tr>\n",
       "    <tr>\n",
       "      <th>78330</th>\n",
       "      <td>Zara</td>\n",
       "      <td>Blusa Estampa Animal</td>\n",
       "      <td>4000.00</td>\n",
       "      <td>15000.0</td>\n",
       "      <td>Blusinha com estampa animal na cor marrom. Pos...</td>\n",
       "      <td>P</td>\n",
       "      <td>Usado</td>\n",
       "      <td>\\nAnimal print \\n</td>\n",
       "      <td>1</td>\n",
       "    </tr>\n",
       "  </tbody>\n",
       "</table>\n",
       "<p>78331 rows × 9 columns</p>\n",
       "</div>"
      ],
      "text/plain": [
       "                    marca                                         nomeDaPeca  \\\n",
       "0               sem marca                            \\nBlusa Verde Babados\\n   \n",
       "1                    zara                                \\nSaia Lápis Zara\\n   \n",
       "2                   1 a 9                             \\nJeans Skinny 1 a 9\\n   \n",
       "3                   Coach                                Sapatilha Monograma   \n",
       "4      primeiro item teen                  \\nShorts Feminino Teen Corações\\n   \n",
       "...                   ...                                                ...   \n",
       "78326               mandi                             \\nCamisa Preta Mandi\\n   \n",
       "78327                  mo                            \\nSaia Branca Bordada\\n   \n",
       "78328      luigi bertolli  \\nVestido Floral Preto e Vermelho Luigi Bertol...   \n",
       "78329                Zara                                 Blazer Tweed Bege    \n",
       "78330                Zara                               Blusa Estampa Animal   \n",
       "\n",
       "       precoComDesconto  precoSemDesconto  \\\n",
       "0                 64.00             160.0   \n",
       "1                 57.00             219.0   \n",
       "2                 69.00             279.0   \n",
       "3              25000.00           87500.0   \n",
       "4                 20.97              69.9   \n",
       "...                 ...               ...   \n",
       "78326             15.00              69.9   \n",
       "78327             33.75             135.0   \n",
       "78328             27.48              89.9   \n",
       "78329           7000.00           28000.0   \n",
       "78330           4000.00           15000.0   \n",
       "\n",
       "                                               Descricao Tamanho  \\\n",
       "0      Blusa verde com modelagem básica. Peça com bab...       m   \n",
       "1                                      Marca: Zara Woman      38   \n",
       "2       Medidas: cintura 32cm, quadril 43cm, comprime...      38   \n",
       "3      Sapatilha caramelo. Possui monograma em toda a...      39   \n",
       "4      Shorts feminino, com estampa de corações, do P...       m   \n",
       "...                                                  ...     ...   \n",
       "78326  Camisa feminina, preta, da Mandi. Tecido plano...       m   \n",
       "78327  Saia branca com bordados em linha prata, azul ...       p   \n",
       "78328  Vestido preto com flores vermelhas, da Luigi B...      gg   \n",
       "78329  Blazer em tweed, nas cores bege e dourado. Pos...       P   \n",
       "78330  Blusinha com estampa animal na cor marrom. Pos...       P   \n",
       "\n",
       "                Condicao                                              Cores  \\\n",
       "0      gentilmente usada                                              verde   \n",
       "1      gentilmente usada  Detalhe: Dois bolsos frontais, forro, zíper tr...   \n",
       "2      gentilmente usada                                               azul   \n",
       "3                  Usado                              \\nCaramelo \\nPreto \\n   \n",
       "4      gentilmente usada                                           colorido   \n",
       "...                  ...                                                ...   \n",
       "78326  gentilmente usada                                              preto   \n",
       "78327  gentilmente usada                                             branco   \n",
       "78328  gentilmente usada                                           colorido   \n",
       "78329              Usado                                          \\nBege \\n   \n",
       "78330              Usado                                  \\nAnimal print \\n   \n",
       "\n",
       "       VENDIDO  \n",
       "0            0  \n",
       "1            1  \n",
       "2            0  \n",
       "3            1  \n",
       "4            0  \n",
       "...        ...  \n",
       "78326        0  \n",
       "78327        1  \n",
       "78328        1  \n",
       "78329        1  \n",
       "78330        1  \n",
       "\n",
       "[78331 rows x 9 columns]"
      ]
     },
     "execution_count": 10,
     "metadata": {},
     "output_type": "execute_result"
    }
   ],
   "source": [
    "df"
   ]
  },
  {
   "cell_type": "code",
   "execution_count": 12,
   "id": "4c1c5cc5",
   "metadata": {},
   "outputs": [],
   "source": [
    "df2 = pd.read_csv('test.csv')"
   ]
  },
  {
   "cell_type": "code",
   "execution_count": 13,
   "id": "0aee9060",
   "metadata": {},
   "outputs": [],
   "source": [
    "df2['precoComDesconto'] = pd.to_numeric(df2['precoComDesconto'].str.replace('[^0-9.]', '', regex=True), errors='coerce')\n",
    "df2['precoSemDesconto'] = pd.to_numeric(df2['precoSemDesconto'].str.replace('[^0-9.]', '', regex=True), errors='coerce')\n"
   ]
  },
  {
   "cell_type": "code",
   "execution_count": 14,
   "id": "902fed5e",
   "metadata": {},
   "outputs": [],
   "source": [
    "df2['precoComDesconto'] = pd.to_numeric(df['precoComDesconto'])\n",
    "df2['precoSemDesconto'] = pd.to_numeric(df['precoSemDesconto'])\n"
   ]
  },
  {
   "cell_type": "code",
   "execution_count": 15,
   "id": "2ba418f3",
   "metadata": {},
   "outputs": [
    {
     "data": {
      "text/plain": [
       "marca                358\n",
       "nomeDaPeca             0\n",
       "precoComDesconto       0\n",
       "precoSemDesconto    1510\n",
       "Descricao              8\n",
       "Tamanho              276\n",
       "Condicao               0\n",
       "Cores               1603\n",
       "VENDIDO                0\n",
       "dtype: int64"
      ]
     },
     "execution_count": 15,
     "metadata": {},
     "output_type": "execute_result"
    }
   ],
   "source": [
    "df.isnull().sum()"
   ]
  },
  {
   "cell_type": "code",
   "execution_count": 16,
   "id": "afbb12dc",
   "metadata": {},
   "outputs": [
    {
     "name": "stderr",
     "output_type": "stream",
     "text": [
      "C:\\Users\\filipe.sampaio\\AppData\\Local\\Temp\\ipykernel_13248\\381426080.py:2: FutureWarning: \n",
      "\n",
      "Passing `palette` without assigning `hue` is deprecated and will be removed in v0.14.0. Assign the `x` variable to `hue` and set `legend=False` for the same effect.\n",
      "\n",
      "  ax = sns.countplot(x=\"VENDIDO\", data=df, palette=sns.xkcd_palette([\"azure\", \"light red\"]))\n"
     ]
    },
    {
     "data": {
      "image/png": "[encoded data removed]",
      "text/plain": [
       "<Figure size 640x480 with 1 Axes>"
      ]
     },
     "metadata": {},
     "output_type": "display_data"
    }
   ],
   "source": [
    "sns.set(style=\"darkgrid\")\n",
    "ax = sns.countplot(x=\"VENDIDO\", data=df, palette=sns.xkcd_palette([\"azure\", \"light red\"]))\n",
    "plt.xlabel('Vendido')\n",
    "plt.ylabel('Count')\n",
    "plt.show()"
   ]
  },
  {
   "cell_type": "code",
   "execution_count": 17,
   "id": "460dc770",
   "metadata": {},
   "outputs": [
    {
     "data": {
      "image/png": "[encoded data removed]",
      "text/plain": [
       "<Figure size 800x400 with 1 Axes>"
      ]
     },
     "metadata": {},
     "output_type": "display_data"
    }
   ],
   "source": [
    "fig=plt.figure(figsize=(8,4))\n",
    "for x in [0,1]:\n",
    "    df['precoSemDesconto'][df['VENDIDO']==x].plot(kind='kde')\n",
    "    \n",
    "\n",
    "\n",
    "plt.show()"
   ]
  },
  {
   "cell_type": "code",
   "execution_count": 28,
   "id": "86342aaa",
   "metadata": {
    "scrolled": false
   },
   "outputs": [
    {
     "data": {
      "text/plain": [
       "<Axes: >"
      ]
     },
     "execution_count": 28,
     "metadata": {},
     "output_type": "execute_result"
    },
    {
     "data": {
      "image/png": "[encoded data removed]",
      "text/plain": [
       "<Figure size 1500x1000 with 2 Axes>"
      ]
     },
     "metadata": {},
     "output_type": "display_data"
    }
   ],
   "source": [
    "fig, ax = plt.subplots(figsize=(15,10))\n",
    "sns.heatmap(df.corr(), annot = True, ax=ax)"
   ]
  },
  {
   "cell_type": "code",
   "execution_count": 20,
   "id": "c93989fc",
   "metadata": {},
   "outputs": [
    {
     "data": {
      "text/plain": [
       "array(['gentilmente usada', 'Usado', 'Novo com etiqueta',\n",
       "       'nova com etiqueta', 'Novo sem etiqueta', 'novo com etiqueta'],\n",
       "      dtype=object)"
      ]
     },
     "execution_count": 20,
     "metadata": {},
     "output_type": "execute_result"
    }
   ],
   "source": [
    "df['Condicao'].unique()"
   ]
  },
  {
   "cell_type": "code",
   "execution_count": 21,
   "id": "81ab3b8c",
   "metadata": {},
   "outputs": [],
   "source": [
    "# Codificação de Variáveis Categóricas\n",
    "label_encoders = {}\n",
    "categorical_columns = ['marca', 'Tamanho', 'Condicao', 'Cores']\n",
    "for column in categorical_columns:\n",
    "    label_encoders[column] = LabelEncoder()\n",
    "    df[column] = label_encoders[column].fit_transform(df[column])\n",
    "    \n",
    "    "
   ]
  },
  {
   "cell_type": "code",
   "execution_count": 26,
   "id": "b4aac8af",
   "metadata": {
    "scrolled": false
   },
   "outputs": [],
   "source": [
    "df = df.drop(['nomeDaPeca', 'Descricao'], axis= 1)"
   ]
  },
  {
   "cell_type": "code",
   "execution_count": 27,
   "id": "9c05db2b",
   "metadata": {},
   "outputs": [
    {
     "data": {
      "text/html": [
       "<div>\n",
       "<style scoped>\n",
       "    .dataframe tbody tr th:only-of-type {\n",
       "        vertical-align: middle;\n",
       "    }\n",
       "\n",
       "    .dataframe tbody tr th {\n",
       "        vertical-align: top;\n",
       "    }\n",
       "\n",
       "    .dataframe thead th {\n",
       "        text-align: right;\n",
       "    }\n",
       "</style>\n",
       "<table border=\"1\" class=\"dataframe\">\n",
       "  <thead>\n",
       "    <tr style=\"text-align: right;\">\n",
       "      <th></th>\n",
       "      <th>marca</th>\n",
       "      <th>precoComDesconto</th>\n",
       "      <th>precoSemDesconto</th>\n",
       "      <th>Tamanho</th>\n",
       "      <th>Condicao</th>\n",
       "      <th>Cores</th>\n",
       "      <th>VENDIDO</th>\n",
       "    </tr>\n",
       "  </thead>\n",
       "  <tbody>\n",
       "    <tr>\n",
       "      <th>0</th>\n",
       "      <td>9669</td>\n",
       "      <td>64.00</td>\n",
       "      <td>160.0</td>\n",
       "      <td>121</td>\n",
       "      <td>3</td>\n",
       "      <td>1939</td>\n",
       "      <td>0</td>\n",
       "    </tr>\n",
       "    <tr>\n",
       "      <th>1</th>\n",
       "      <td>11340</td>\n",
       "      <td>57.00</td>\n",
       "      <td>219.0</td>\n",
       "      <td>92</td>\n",
       "      <td>3</td>\n",
       "      <td>1454</td>\n",
       "      <td>1</td>\n",
       "    </tr>\n",
       "    <tr>\n",
       "      <th>2</th>\n",
       "      <td>229</td>\n",
       "      <td>69.00</td>\n",
       "      <td>279.0</td>\n",
       "      <td>92</td>\n",
       "      <td>3</td>\n",
       "      <td>1921</td>\n",
       "      <td>0</td>\n",
       "    </tr>\n",
       "    <tr>\n",
       "      <th>3</th>\n",
       "      <td>576</td>\n",
       "      <td>25000.00</td>\n",
       "      <td>87500.0</td>\n",
       "      <td>30</td>\n",
       "      <td>2</td>\n",
       "      <td>727</td>\n",
       "      <td>1</td>\n",
       "    </tr>\n",
       "    <tr>\n",
       "      <th>4</th>\n",
       "      <td>8922</td>\n",
       "      <td>20.97</td>\n",
       "      <td>69.9</td>\n",
       "      <td>121</td>\n",
       "      <td>3</td>\n",
       "      <td>1926</td>\n",
       "      <td>0</td>\n",
       "    </tr>\n",
       "    <tr>\n",
       "      <th>...</th>\n",
       "      <td>...</td>\n",
       "      <td>...</td>\n",
       "      <td>...</td>\n",
       "      <td>...</td>\n",
       "      <td>...</td>\n",
       "      <td>...</td>\n",
       "      <td>...</td>\n",
       "    </tr>\n",
       "    <tr>\n",
       "      <th>78326</th>\n",
       "      <td>7282</td>\n",
       "      <td>15.00</td>\n",
       "      <td>69.9</td>\n",
       "      <td>121</td>\n",
       "      <td>3</td>\n",
       "      <td>1935</td>\n",
       "      <td>0</td>\n",
       "    </tr>\n",
       "    <tr>\n",
       "      <th>78327</th>\n",
       "      <td>7833</td>\n",
       "      <td>33.75</td>\n",
       "      <td>135.0</td>\n",
       "      <td>122</td>\n",
       "      <td>3</td>\n",
       "      <td>1924</td>\n",
       "      <td>1</td>\n",
       "    </tr>\n",
       "    <tr>\n",
       "      <th>78328</th>\n",
       "      <td>7041</td>\n",
       "      <td>27.48</td>\n",
       "      <td>89.9</td>\n",
       "      <td>120</td>\n",
       "      <td>3</td>\n",
       "      <td>1926</td>\n",
       "      <td>1</td>\n",
       "    </tr>\n",
       "    <tr>\n",
       "      <th>78329</th>\n",
       "      <td>1611</td>\n",
       "      <td>7000.00</td>\n",
       "      <td>28000.0</td>\n",
       "      <td>53</td>\n",
       "      <td>2</td>\n",
       "      <td>478</td>\n",
       "      <td>1</td>\n",
       "    </tr>\n",
       "    <tr>\n",
       "      <th>78330</th>\n",
       "      <td>1611</td>\n",
       "      <td>4000.00</td>\n",
       "      <td>15000.0</td>\n",
       "      <td>53</td>\n",
       "      <td>2</td>\n",
       "      <td>174</td>\n",
       "      <td>1</td>\n",
       "    </tr>\n",
       "  </tbody>\n",
       "</table>\n",
       "<p>78331 rows × 7 columns</p>\n",
       "</div>"
      ],
      "text/plain": [
       "       marca  precoComDesconto  precoSemDesconto  Tamanho  Condicao  Cores  \\\n",
       "0       9669             64.00             160.0      121         3   1939   \n",
       "1      11340             57.00             219.0       92         3   1454   \n",
       "2        229             69.00             279.0       92         3   1921   \n",
       "3        576          25000.00           87500.0       30         2    727   \n",
       "4       8922             20.97              69.9      121         3   1926   \n",
       "...      ...               ...               ...      ...       ...    ...   \n",
       "78326   7282             15.00              69.9      121         3   1935   \n",
       "78327   7833             33.75             135.0      122         3   1924   \n",
       "78328   7041             27.48              89.9      120         3   1926   \n",
       "78329   1611           7000.00           28000.0       53         2    478   \n",
       "78330   1611           4000.00           15000.0       53         2    174   \n",
       "\n",
       "       VENDIDO  \n",
       "0            0  \n",
       "1            1  \n",
       "2            0  \n",
       "3            1  \n",
       "4            0  \n",
       "...        ...  \n",
       "78326        0  \n",
       "78327        1  \n",
       "78328        1  \n",
       "78329        1  \n",
       "78330        1  \n",
       "\n",
       "[78331 rows x 7 columns]"
      ]
     },
     "execution_count": 27,
     "metadata": {},
     "output_type": "execute_result"
    }
   ],
   "source": [
    "df"
   ]
  },
  {
   "cell_type": "code",
   "execution_count": 43,
   "id": "64f6767c",
   "metadata": {},
   "outputs": [],
   "source": [
    "X = df.drop(['VENDIDO'], axis=1)\n",
    "y = df['VENDIDO']"
   ]
  },
  {
   "cell_type": "code",
   "execution_count": 44,
   "id": "757b5611",
   "metadata": {},
   "outputs": [],
   "source": [
    "X_train, X_test, y_train, y_test = train_test_split(X, y, test_size=0.3, random_state=42)"
   ]
  },
  {
   "cell_type": "code",
   "execution_count": 45,
   "id": "bc57a807",
   "metadata": {},
   "outputs": [],
   "source": [
    "scaler = StandardScaler()\n",
    "X_train = scaler.fit_transform(X_train)\n",
    "X_test = scaler.transform(X_test)"
   ]
  },
  {
   "cell_type": "code",
   "execution_count": 40,
   "id": "4af3657b",
   "metadata": {},
   "outputs": [
    {
     "name": "stdout",
     "output_type": "stream",
     "text": [
      "marca               0\n",
      "precoComDesconto    0\n",
      "precoSemDesconto    0\n",
      "Tamanho             0\n",
      "Condicao            0\n",
      "Cores               0\n",
      "VENDIDO             0\n",
      "dtype: int64\n"
     ]
    }
   ],
   "source": [
    "print(df.isnull().sum())"
   ]
  },
  {
   "cell_type": "code",
   "execution_count": 41,
   "id": "4480557a",
   "metadata": {},
   "outputs": [],
   "source": [
    "df.fillna(df.mean(), inplace=True)"
   ]
  },
  {
   "cell_type": "code",
   "execution_count": 47,
   "id": "3f842d41",
   "metadata": {},
   "outputs": [
    {
     "name": "stdout",
     "output_type": "stream",
     "text": [
      "Model: Logistic Regression\n",
      "Cross-Validation Mean Accuracy: 0.612883207179611\n",
      "Accuracy on Test Data: 0.6120425531914894\n",
      "Classification Report:\n",
      "               precision    recall  f1-score   support\n",
      "\n",
      "           0       0.55      0.07      0.13      9253\n",
      "           1       0.62      0.96      0.75     14247\n",
      "\n",
      "    accuracy                           0.61     23500\n",
      "   macro avg       0.59      0.52      0.44     23500\n",
      "weighted avg       0.59      0.61      0.51     23500\n",
      "\n",
      "==================================================\n",
      "Model: K-Nearest Neighbors\n",
      "Cross-Validation Mean Accuracy: 0.5954660642681114\n",
      "Accuracy on Test Data: 0.595063829787234\n",
      "Classification Report:\n",
      "               precision    recall  f1-score   support\n",
      "\n",
      "           0       0.48      0.41      0.44      9253\n",
      "           1       0.65      0.72      0.68     14247\n",
      "\n",
      "    accuracy                           0.60     23500\n",
      "   macro avg       0.57      0.56      0.56     23500\n",
      "weighted avg       0.58      0.60      0.59     23500\n",
      "\n",
      "==================================================\n",
      "Model: Gaussian Naïve Bayes\n",
      "Cross-Validation Mean Accuracy: 0.6122266705609841\n",
      "Accuracy on Test Data: 0.6110212765957447\n",
      "Classification Report:\n",
      "               precision    recall  f1-score   support\n",
      "\n",
      "           0       0.52      0.15      0.23      9253\n",
      "           1       0.62      0.91      0.74     14247\n",
      "\n",
      "    accuracy                           0.61     23500\n",
      "   macro avg       0.57      0.53      0.48     23500\n",
      "weighted avg       0.58      0.61      0.54     23500\n",
      "\n",
      "==================================================\n"
     ]
    },
    {
     "ename": "KeyboardInterrupt",
     "evalue": "",
     "output_type": "error",
     "traceback": [
      "\u001b[1;31m---------------------------------------------------------------------------\u001b[0m",
      "\u001b[1;31mKeyboardInterrupt\u001b[0m                         Traceback (most recent call last)",
      "Cell \u001b[1;32mIn[47], line 17\u001b[0m\n\u001b[0;32m     14\u001b[0m \u001b[38;5;66;03m# Loop através dos modelos\u001b[39;00m\n\u001b[0;32m     15\u001b[0m \u001b[38;5;28;01mfor\u001b[39;00m model_name, model \u001b[38;5;129;01min\u001b[39;00m models\u001b[38;5;241m.\u001b[39mitems():\n\u001b[0;32m     16\u001b[0m     \u001b[38;5;66;03m# Treine e avalie o modelo usando validação cruzada (k-fold)\u001b[39;00m\n\u001b[1;32m---> 17\u001b[0m     scores \u001b[38;5;241m=\u001b[39m \u001b[43mcross_val_score\u001b[49m\u001b[43m(\u001b[49m\u001b[43mmodel\u001b[49m\u001b[43m,\u001b[49m\u001b[43m \u001b[49m\u001b[43mX_train\u001b[49m\u001b[43m,\u001b[49m\u001b[43m \u001b[49m\u001b[43my_train\u001b[49m\u001b[43m,\u001b[49m\u001b[43m \u001b[49m\u001b[43mcv\u001b[49m\u001b[38;5;241;43m=\u001b[39;49m\u001b[38;5;241;43m5\u001b[39;49m\u001b[43m,\u001b[49m\u001b[43m \u001b[49m\u001b[43mscoring\u001b[49m\u001b[38;5;241;43m=\u001b[39;49m\u001b[38;5;124;43m'\u001b[39;49m\u001b[38;5;124;43maccuracy\u001b[39;49m\u001b[38;5;124;43m'\u001b[39;49m\u001b[43m)\u001b[49m\n\u001b[0;32m     19\u001b[0m     \u001b[38;5;66;03m# Calcule a média das pontuações\u001b[39;00m\n\u001b[0;32m     20\u001b[0m     mean_score \u001b[38;5;241m=\u001b[39m scores\u001b[38;5;241m.\u001b[39mmean()\n",
      "File \u001b[1;32m~\\AppData\\Roaming\\Python\\Python310\\site-packages\\sklearn\\model_selection\\_validation.py:562\u001b[0m, in \u001b[0;36mcross_val_score\u001b[1;34m(estimator, X, y, groups, scoring, cv, n_jobs, verbose, fit_params, pre_dispatch, error_score)\u001b[0m\n\u001b[0;32m    559\u001b[0m \u001b[39m# To ensure multimetric format is not supported\u001b[39;00m\n\u001b[0;32m    560\u001b[0m scorer \u001b[39m=\u001b[39m check_scoring(estimator, scoring\u001b[39m=\u001b[39mscoring)\n\u001b[1;32m--> 562\u001b[0m cv_results \u001b[39m=\u001b[39m cross_validate(\n\u001b[0;32m    563\u001b[0m     estimator\u001b[39m=\u001b[39;49mestimator,\n\u001b[0;32m    564\u001b[0m     X\u001b[39m=\u001b[39;49mX,\n\u001b[0;32m    565\u001b[0m     y\u001b[39m=\u001b[39;49my,\n\u001b[0;32m    566\u001b[0m     groups\u001b[39m=\u001b[39;49mgroups,\n\u001b[0;32m    567\u001b[0m     scoring\u001b[39m=\u001b[39;49m{\u001b[39m\"\u001b[39;49m\u001b[39mscore\u001b[39;49m\u001b[39m\"\u001b[39;49m: scorer},\n\u001b[0;32m    568\u001b[0m     cv\u001b[39m=\u001b[39;49mcv,\n\u001b[0;32m    569\u001b[0m     n_jobs\u001b[39m=\u001b[39;49mn_jobs,\n\u001b[0;32m    570\u001b[0m     verbose\u001b[39m=\u001b[39;49mverbose,\n\u001b[0;32m    571\u001b[0m     fit_params\u001b[39m=\u001b[39;49mfit_params,\n\u001b[0;32m    572\u001b[0m     pre_dispatch\u001b[39m=\u001b[39;49mpre_dispatch,\n\u001b[0;32m    573\u001b[0m     error_score\u001b[39m=\u001b[39;49merror_score,\n\u001b[0;32m    574\u001b[0m )\n\u001b[0;32m    575\u001b[0m \u001b[39mreturn\u001b[39;00m cv_results[\u001b[39m\"\u001b[39m\u001b[39mtest_score\u001b[39m\u001b[39m\"\u001b[39m]\n",
      "File \u001b[1;32m~\\AppData\\Roaming\\Python\\Python310\\site-packages\\sklearn\\utils\\_param_validation.py:211\u001b[0m, in \u001b[0;36mvalidate_params.<locals>.decorator.<locals>.wrapper\u001b[1;34m(*args, **kwargs)\u001b[0m\n\u001b[0;32m    205\u001b[0m \u001b[39mtry\u001b[39;00m:\n\u001b[0;32m    206\u001b[0m     \u001b[39mwith\u001b[39;00m config_context(\n\u001b[0;32m    207\u001b[0m         skip_parameter_validation\u001b[39m=\u001b[39m(\n\u001b[0;32m    208\u001b[0m             prefer_skip_nested_validation \u001b[39mor\u001b[39;00m global_skip_validation\n\u001b[0;32m    209\u001b[0m         )\n\u001b[0;32m    210\u001b[0m     ):\n\u001b[1;32m--> 211\u001b[0m         \u001b[39mreturn\u001b[39;00m func(\u001b[39m*\u001b[39margs, \u001b[39m*\u001b[39m\u001b[39m*\u001b[39mkwargs)\n\u001b[0;32m    212\u001b[0m \u001b[39mexcept\u001b[39;00m InvalidParameterError \u001b[39mas\u001b[39;00m e:\n\u001b[0;32m    213\u001b[0m     \u001b[39m# When the function is just a wrapper around an estimator, we allow\u001b[39;00m\n\u001b[0;32m    214\u001b[0m     \u001b[39m# the function to delegate validation to the estimator, but we replace\u001b[39;00m\n\u001b[0;32m    215\u001b[0m     \u001b[39m# the name of the estimator by the name of the function in the error\u001b[39;00m\n\u001b[0;32m    216\u001b[0m     \u001b[39m# message to avoid confusion.\u001b[39;00m\n\u001b[0;32m    217\u001b[0m     msg \u001b[39m=\u001b[39m re\u001b[39m.\u001b[39msub(\n\u001b[0;32m    218\u001b[0m         \u001b[39mr\u001b[39m\u001b[39m\"\u001b[39m\u001b[39mparameter of \u001b[39m\u001b[39m\\\u001b[39m\u001b[39mw+ must be\u001b[39m\u001b[39m\"\u001b[39m,\n\u001b[0;32m    219\u001b[0m         \u001b[39mf\u001b[39m\u001b[39m\"\u001b[39m\u001b[39mparameter of \u001b[39m\u001b[39m{\u001b[39;00mfunc\u001b[39m.\u001b[39m\u001b[39m__qualname__\u001b[39m\u001b[39m}\u001b[39;00m\u001b[39m must be\u001b[39m\u001b[39m\"\u001b[39m,\n\u001b[0;32m    220\u001b[0m         \u001b[39mstr\u001b[39m(e),\n\u001b[0;32m    221\u001b[0m     )\n",
      "File \u001b[1;32m~\\AppData\\Roaming\\Python\\Python310\\site-packages\\sklearn\\model_selection\\_validation.py:309\u001b[0m, in \u001b[0;36mcross_validate\u001b[1;34m(estimator, X, y, groups, scoring, cv, n_jobs, verbose, fit_params, pre_dispatch, return_train_score, return_estimator, return_indices, error_score)\u001b[0m\n\u001b[0;32m    306\u001b[0m \u001b[39m# We clone the estimator to make sure that all the folds are\u001b[39;00m\n\u001b[0;32m    307\u001b[0m \u001b[39m# independent, and that it is pickle-able.\u001b[39;00m\n\u001b[0;32m    308\u001b[0m parallel \u001b[39m=\u001b[39m Parallel(n_jobs\u001b[39m=\u001b[39mn_jobs, verbose\u001b[39m=\u001b[39mverbose, pre_dispatch\u001b[39m=\u001b[39mpre_dispatch)\n\u001b[1;32m--> 309\u001b[0m results \u001b[39m=\u001b[39m parallel(\n\u001b[0;32m    310\u001b[0m     delayed(_fit_and_score)(\n\u001b[0;32m    311\u001b[0m         clone(estimator),\n\u001b[0;32m    312\u001b[0m         X,\n\u001b[0;32m    313\u001b[0m         y,\n\u001b[0;32m    314\u001b[0m         scorers,\n\u001b[0;32m    315\u001b[0m         train,\n\u001b[0;32m    316\u001b[0m         test,\n\u001b[0;32m    317\u001b[0m         verbose,\n\u001b[0;32m    318\u001b[0m         \u001b[39mNone\u001b[39;49;00m,\n\u001b[0;32m    319\u001b[0m         fit_params,\n\u001b[0;32m    320\u001b[0m         return_train_score\u001b[39m=\u001b[39;49mreturn_train_score,\n\u001b[0;32m    321\u001b[0m         return_times\u001b[39m=\u001b[39;49m\u001b[39mTrue\u001b[39;49;00m,\n\u001b[0;32m    322\u001b[0m         return_estimator\u001b[39m=\u001b[39;49mreturn_estimator,\n\u001b[0;32m    323\u001b[0m         error_score\u001b[39m=\u001b[39;49merror_score,\n\u001b[0;32m    324\u001b[0m     )\n\u001b[0;32m    325\u001b[0m     \u001b[39mfor\u001b[39;49;00m train, test \u001b[39min\u001b[39;49;00m indices\n\u001b[0;32m    326\u001b[0m )\n\u001b[0;32m    328\u001b[0m _warn_or_raise_about_fit_failures(results, error_score)\n\u001b[0;32m    330\u001b[0m \u001b[39m# For callable scoring, the return type is only know after calling. If the\u001b[39;00m\n\u001b[0;32m    331\u001b[0m \u001b[39m# return type is a dictionary, the error scores can now be inserted with\u001b[39;00m\n\u001b[0;32m    332\u001b[0m \u001b[39m# the correct key.\u001b[39;00m\n",
      "File \u001b[1;32m~\\AppData\\Roaming\\Python\\Python310\\site-packages\\sklearn\\utils\\parallel.py:65\u001b[0m, in \u001b[0;36mParallel.__call__\u001b[1;34m(self, iterable)\u001b[0m\n\u001b[0;32m     60\u001b[0m config \u001b[39m=\u001b[39m get_config()\n\u001b[0;32m     61\u001b[0m iterable_with_config \u001b[39m=\u001b[39m (\n\u001b[0;32m     62\u001b[0m     (_with_config(delayed_func, config), args, kwargs)\n\u001b[0;32m     63\u001b[0m     \u001b[39mfor\u001b[39;00m delayed_func, args, kwargs \u001b[39min\u001b[39;00m iterable\n\u001b[0;32m     64\u001b[0m )\n\u001b[1;32m---> 65\u001b[0m \u001b[39mreturn\u001b[39;00m \u001b[39msuper\u001b[39;49m()\u001b[39m.\u001b[39;49m\u001b[39m__call__\u001b[39;49m(iterable_with_config)\n",
      "File \u001b[1;32m~\\AppData\\Roaming\\Python\\Python310\\site-packages\\joblib\\parallel.py:1863\u001b[0m, in \u001b[0;36mParallel.__call__\u001b[1;34m(self, iterable)\u001b[0m\n\u001b[0;32m   1861\u001b[0m     output \u001b[39m=\u001b[39m \u001b[39mself\u001b[39m\u001b[39m.\u001b[39m_get_sequential_output(iterable)\n\u001b[0;32m   1862\u001b[0m     \u001b[39mnext\u001b[39m(output)\n\u001b[1;32m-> 1863\u001b[0m     \u001b[39mreturn\u001b[39;00m output \u001b[39mif\u001b[39;00m \u001b[39mself\u001b[39m\u001b[39m.\u001b[39mreturn_generator \u001b[39melse\u001b[39;00m \u001b[39mlist\u001b[39;49m(output)\n\u001b[0;32m   1865\u001b[0m \u001b[39m# Let's create an ID that uniquely identifies the current call. If the\u001b[39;00m\n\u001b[0;32m   1866\u001b[0m \u001b[39m# call is interrupted early and that the same instance is immediately\u001b[39;00m\n\u001b[0;32m   1867\u001b[0m \u001b[39m# re-used, this id will be used to prevent workers that were\u001b[39;00m\n\u001b[0;32m   1868\u001b[0m \u001b[39m# concurrently finalizing a task from the previous call to run the\u001b[39;00m\n\u001b[0;32m   1869\u001b[0m \u001b[39m# callback.\u001b[39;00m\n\u001b[0;32m   1870\u001b[0m \u001b[39mwith\u001b[39;00m \u001b[39mself\u001b[39m\u001b[39m.\u001b[39m_lock:\n",
      "File \u001b[1;32m~\\AppData\\Roaming\\Python\\Python310\\site-packages\\joblib\\parallel.py:1792\u001b[0m, in \u001b[0;36mParallel._get_sequential_output\u001b[1;34m(self, iterable)\u001b[0m\n\u001b[0;32m   1790\u001b[0m \u001b[39mself\u001b[39m\u001b[39m.\u001b[39mn_dispatched_batches \u001b[39m+\u001b[39m\u001b[39m=\u001b[39m \u001b[39m1\u001b[39m\n\u001b[0;32m   1791\u001b[0m \u001b[39mself\u001b[39m\u001b[39m.\u001b[39mn_dispatched_tasks \u001b[39m+\u001b[39m\u001b[39m=\u001b[39m \u001b[39m1\u001b[39m\n\u001b[1;32m-> 1792\u001b[0m res \u001b[39m=\u001b[39m func(\u001b[39m*\u001b[39margs, \u001b[39m*\u001b[39m\u001b[39m*\u001b[39mkwargs)\n\u001b[0;32m   1793\u001b[0m \u001b[39mself\u001b[39m\u001b[39m.\u001b[39mn_completed_tasks \u001b[39m+\u001b[39m\u001b[39m=\u001b[39m \u001b[39m1\u001b[39m\n\u001b[0;32m   1794\u001b[0m \u001b[39mself\u001b[39m\u001b[39m.\u001b[39mprint_progress()\n",
      "File \u001b[1;32m~\\AppData\\Roaming\\Python\\Python310\\site-packages\\sklearn\\utils\\parallel.py:127\u001b[0m, in \u001b[0;36m_FuncWrapper.__call__\u001b[1;34m(self, *args, **kwargs)\u001b[0m\n\u001b[0;32m    125\u001b[0m     config \u001b[39m=\u001b[39m {}\n\u001b[0;32m    126\u001b[0m \u001b[39mwith\u001b[39;00m config_context(\u001b[39m*\u001b[39m\u001b[39m*\u001b[39mconfig):\n\u001b[1;32m--> 127\u001b[0m     \u001b[39mreturn\u001b[39;00m \u001b[39mself\u001b[39m\u001b[39m.\u001b[39mfunction(\u001b[39m*\u001b[39margs, \u001b[39m*\u001b[39m\u001b[39m*\u001b[39mkwargs)\n",
      "File \u001b[1;32m~\\AppData\\Roaming\\Python\\Python310\\site-packages\\sklearn\\model_selection\\_validation.py:751\u001b[0m, in \u001b[0;36m_fit_and_score\u001b[1;34m(estimator, X, y, scorer, train, test, verbose, parameters, fit_params, return_train_score, return_parameters, return_n_test_samples, return_times, return_estimator, split_progress, candidate_progress, error_score)\u001b[0m\n\u001b[0;32m    748\u001b[0m result[\u001b[39m\"\u001b[39m\u001b[39mfit_error\u001b[39m\u001b[39m\"\u001b[39m] \u001b[39m=\u001b[39m \u001b[39mNone\u001b[39;00m\n\u001b[0;32m    750\u001b[0m fit_time \u001b[39m=\u001b[39m time\u001b[39m.\u001b[39mtime() \u001b[39m-\u001b[39m start_time\n\u001b[1;32m--> 751\u001b[0m test_scores \u001b[39m=\u001b[39m _score(estimator, X_test, y_test, scorer, error_score)\n\u001b[0;32m    752\u001b[0m score_time \u001b[39m=\u001b[39m time\u001b[39m.\u001b[39mtime() \u001b[39m-\u001b[39m start_time \u001b[39m-\u001b[39m fit_time\n\u001b[0;32m    753\u001b[0m \u001b[39mif\u001b[39;00m return_train_score:\n",
      "File \u001b[1;32m~\\AppData\\Roaming\\Python\\Python310\\site-packages\\sklearn\\model_selection\\_validation.py:810\u001b[0m, in \u001b[0;36m_score\u001b[1;34m(estimator, X_test, y_test, scorer, error_score)\u001b[0m\n\u001b[0;32m    808\u001b[0m         scores \u001b[39m=\u001b[39m scorer(estimator, X_test)\n\u001b[0;32m    809\u001b[0m     \u001b[39melse\u001b[39;00m:\n\u001b[1;32m--> 810\u001b[0m         scores \u001b[39m=\u001b[39m scorer(estimator, X_test, y_test)\n\u001b[0;32m    811\u001b[0m \u001b[39mexcept\u001b[39;00m \u001b[39mException\u001b[39;00m:\n\u001b[0;32m    812\u001b[0m     \u001b[39mif\u001b[39;00m \u001b[39misinstance\u001b[39m(scorer, _MultimetricScorer):\n\u001b[0;32m    813\u001b[0m         \u001b[39m# If `_MultimetricScorer` raises exception, the `error_score`\u001b[39;00m\n\u001b[0;32m    814\u001b[0m         \u001b[39m# parameter is equal to \"raise\".\u001b[39;00m\n",
      "File \u001b[1;32m~\\AppData\\Roaming\\Python\\Python310\\site-packages\\sklearn\\metrics\\_scorer.py:136\u001b[0m, in \u001b[0;36m_MultimetricScorer.__call__\u001b[1;34m(self, estimator, *args, **kwargs)\u001b[0m\n\u001b[0;32m    134\u001b[0m \u001b[39mtry\u001b[39;00m:\n\u001b[0;32m    135\u001b[0m     \u001b[39mif\u001b[39;00m \u001b[39misinstance\u001b[39m(scorer, _BaseScorer):\n\u001b[1;32m--> 136\u001b[0m         score \u001b[39m=\u001b[39m scorer\u001b[39m.\u001b[39m_score(\n\u001b[0;32m    137\u001b[0m             cached_call, estimator, \u001b[39m*\u001b[39margs, \u001b[39m*\u001b[39m\u001b[39m*\u001b[39mrouted_params\u001b[39m.\u001b[39mget(name)\u001b[39m.\u001b[39mscore\n\u001b[0;32m    138\u001b[0m         )\n\u001b[0;32m    139\u001b[0m     \u001b[39melse\u001b[39;00m:\n\u001b[0;32m    140\u001b[0m         score \u001b[39m=\u001b[39m scorer(estimator, \u001b[39m*\u001b[39margs, \u001b[39m*\u001b[39m\u001b[39m*\u001b[39mrouted_params\u001b[39m.\u001b[39mget(name)\u001b[39m.\u001b[39mscore)\n",
      "File \u001b[1;32m~\\AppData\\Roaming\\Python\\Python310\\site-packages\\sklearn\\metrics\\_scorer.py:353\u001b[0m, in \u001b[0;36m_PredictScorer._score\u001b[1;34m(self, method_caller, estimator, X, y_true, **kwargs)\u001b[0m\n\u001b[0;32m    316\u001b[0m \u001b[39m\u001b[39m\u001b[39m\"\"\"Evaluate predicted target values for X relative to y_true.\u001b[39;00m\n\u001b[0;32m    317\u001b[0m \n\u001b[0;32m    318\u001b[0m \u001b[39mParameters\u001b[39;00m\n\u001b[1;32m   (...)\u001b[0m\n\u001b[0;32m    343\u001b[0m \u001b[39m    Score function applied to prediction of estimator on X.\u001b[39;00m\n\u001b[0;32m    344\u001b[0m \u001b[39m\"\"\"\u001b[39;00m\n\u001b[0;32m    345\u001b[0m \u001b[39mself\u001b[39m\u001b[39m.\u001b[39m_warn_overlap(\n\u001b[0;32m    346\u001b[0m     message\u001b[39m=\u001b[39m(\n\u001b[0;32m    347\u001b[0m         \u001b[39m\"\u001b[39m\u001b[39mThere is an overlap between set kwargs of this scorer instance and\u001b[39m\u001b[39m\"\u001b[39m\n\u001b[1;32m   (...)\u001b[0m\n\u001b[0;32m    351\u001b[0m     kwargs\u001b[39m=\u001b[39mkwargs,\n\u001b[0;32m    352\u001b[0m )\n\u001b[1;32m--> 353\u001b[0m y_pred \u001b[39m=\u001b[39m method_caller(estimator, \u001b[39m\"\u001b[39;49m\u001b[39mpredict\u001b[39;49m\u001b[39m\"\u001b[39;49m, X)\n\u001b[0;32m    354\u001b[0m scoring_kwargs \u001b[39m=\u001b[39m {\u001b[39m*\u001b[39m\u001b[39m*\u001b[39m\u001b[39mself\u001b[39m\u001b[39m.\u001b[39m_kwargs, \u001b[39m*\u001b[39m\u001b[39m*\u001b[39mkwargs}\n\u001b[0;32m    355\u001b[0m \u001b[39mreturn\u001b[39;00m \u001b[39mself\u001b[39m\u001b[39m.\u001b[39m_sign \u001b[39m*\u001b[39m \u001b[39mself\u001b[39m\u001b[39m.\u001b[39m_score_func(y_true, y_pred, \u001b[39m*\u001b[39m\u001b[39m*\u001b[39mscoring_kwargs)\n",
      "File \u001b[1;32m~\\AppData\\Roaming\\Python\\Python310\\site-packages\\sklearn\\metrics\\_scorer.py:86\u001b[0m, in \u001b[0;36m_cached_call\u001b[1;34m(cache, estimator, response_method, *args, **kwargs)\u001b[0m\n\u001b[0;32m     83\u001b[0m \u001b[39mif\u001b[39;00m cache \u001b[39mis\u001b[39;00m \u001b[39mnot\u001b[39;00m \u001b[39mNone\u001b[39;00m \u001b[39mand\u001b[39;00m response_method \u001b[39min\u001b[39;00m cache:\n\u001b[0;32m     84\u001b[0m     \u001b[39mreturn\u001b[39;00m cache[response_method]\n\u001b[1;32m---> 86\u001b[0m result, _ \u001b[39m=\u001b[39m _get_response_values(\n\u001b[0;32m     87\u001b[0m     estimator, \u001b[39m*\u001b[39margs, response_method\u001b[39m=\u001b[39mresponse_method, \u001b[39m*\u001b[39m\u001b[39m*\u001b[39mkwargs\n\u001b[0;32m     88\u001b[0m )\n\u001b[0;32m     90\u001b[0m \u001b[39mif\u001b[39;00m cache \u001b[39mis\u001b[39;00m \u001b[39mnot\u001b[39;00m \u001b[39mNone\u001b[39;00m:\n\u001b[0;32m     91\u001b[0m     cache[response_method] \u001b[39m=\u001b[39m result\n",
      "File \u001b[1;32m~\\AppData\\Roaming\\Python\\Python310\\site-packages\\sklearn\\utils\\_response.py:194\u001b[0m, in \u001b[0;36m_get_response_values\u001b[1;34m(estimator, X, response_method, pos_label)\u001b[0m\n\u001b[0;32m    191\u001b[0m     \u001b[39melif\u001b[39;00m pos_label \u001b[39mis\u001b[39;00m \u001b[39mNone\u001b[39;00m \u001b[39mand\u001b[39;00m target_type \u001b[39m==\u001b[39m \u001b[39m\"\u001b[39m\u001b[39mbinary\u001b[39m\u001b[39m\"\u001b[39m:\n\u001b[0;32m    192\u001b[0m         pos_label \u001b[39m=\u001b[39m classes[\u001b[39m-\u001b[39m\u001b[39m1\u001b[39m]\n\u001b[1;32m--> 194\u001b[0m y_pred \u001b[39m=\u001b[39m prediction_method(X)\n\u001b[0;32m    196\u001b[0m \u001b[39mif\u001b[39;00m prediction_method\u001b[39m.\u001b[39m\u001b[39m__name__\u001b[39m \u001b[39m==\u001b[39m \u001b[39m\"\u001b[39m\u001b[39mpredict_proba\u001b[39m\u001b[39m\"\u001b[39m:\n\u001b[0;32m    197\u001b[0m     y_pred \u001b[39m=\u001b[39m _process_predict_proba(\n\u001b[0;32m    198\u001b[0m         y_pred\u001b[39m=\u001b[39my_pred,\n\u001b[0;32m    199\u001b[0m         target_type\u001b[39m=\u001b[39mtarget_type,\n\u001b[0;32m    200\u001b[0m         classes\u001b[39m=\u001b[39mclasses,\n\u001b[0;32m    201\u001b[0m         pos_label\u001b[39m=\u001b[39mpos_label,\n\u001b[0;32m    202\u001b[0m     )\n",
      "File \u001b[1;32m~\\AppData\\Roaming\\Python\\Python310\\site-packages\\sklearn\\svm\\_base.py:818\u001b[0m, in \u001b[0;36mBaseSVC.predict\u001b[1;34m(self, X)\u001b[0m\n\u001b[0;32m    816\u001b[0m     y \u001b[39m=\u001b[39m np\u001b[39m.\u001b[39margmax(\u001b[39mself\u001b[39m\u001b[39m.\u001b[39mdecision_function(X), axis\u001b[39m=\u001b[39m\u001b[39m1\u001b[39m)\n\u001b[0;32m    817\u001b[0m \u001b[39melse\u001b[39;00m:\n\u001b[1;32m--> 818\u001b[0m     y \u001b[39m=\u001b[39m \u001b[39msuper\u001b[39;49m()\u001b[39m.\u001b[39;49mpredict(X)\n\u001b[0;32m    819\u001b[0m \u001b[39mreturn\u001b[39;00m \u001b[39mself\u001b[39m\u001b[39m.\u001b[39mclasses_\u001b[39m.\u001b[39mtake(np\u001b[39m.\u001b[39masarray(y, dtype\u001b[39m=\u001b[39mnp\u001b[39m.\u001b[39mintp))\n",
      "File \u001b[1;32m~\\AppData\\Roaming\\Python\\Python310\\site-packages\\sklearn\\svm\\_base.py:433\u001b[0m, in \u001b[0;36mBaseLibSVM.predict\u001b[1;34m(self, X)\u001b[0m\n\u001b[0;32m    431\u001b[0m X \u001b[39m=\u001b[39m \u001b[39mself\u001b[39m\u001b[39m.\u001b[39m_validate_for_predict(X)\n\u001b[0;32m    432\u001b[0m predict \u001b[39m=\u001b[39m \u001b[39mself\u001b[39m\u001b[39m.\u001b[39m_sparse_predict \u001b[39mif\u001b[39;00m \u001b[39mself\u001b[39m\u001b[39m.\u001b[39m_sparse \u001b[39melse\u001b[39;00m \u001b[39mself\u001b[39m\u001b[39m.\u001b[39m_dense_predict\n\u001b[1;32m--> 433\u001b[0m \u001b[39mreturn\u001b[39;00m predict(X)\n",
      "File \u001b[1;32m~\\AppData\\Roaming\\Python\\Python310\\site-packages\\sklearn\\svm\\_base.py:452\u001b[0m, in \u001b[0;36mBaseLibSVM._dense_predict\u001b[1;34m(self, X)\u001b[0m\n\u001b[0;32m    444\u001b[0m         \u001b[39mraise\u001b[39;00m \u001b[39mValueError\u001b[39;00m(\n\u001b[0;32m    445\u001b[0m             \u001b[39m\"\u001b[39m\u001b[39mX.shape[1] = \u001b[39m\u001b[39m%d\u001b[39;00m\u001b[39m should be equal to \u001b[39m\u001b[39m%d\u001b[39;00m\u001b[39m, \u001b[39m\u001b[39m\"\u001b[39m\n\u001b[0;32m    446\u001b[0m             \u001b[39m\"\u001b[39m\u001b[39mthe number of samples at training time\u001b[39m\u001b[39m\"\u001b[39m\n\u001b[0;32m    447\u001b[0m             \u001b[39m%\u001b[39m (X\u001b[39m.\u001b[39mshape[\u001b[39m1\u001b[39m], \u001b[39mself\u001b[39m\u001b[39m.\u001b[39mshape_fit_[\u001b[39m0\u001b[39m])\n\u001b[0;32m    448\u001b[0m         )\n\u001b[0;32m    450\u001b[0m svm_type \u001b[39m=\u001b[39m LIBSVM_IMPL\u001b[39m.\u001b[39mindex(\u001b[39mself\u001b[39m\u001b[39m.\u001b[39m_impl)\n\u001b[1;32m--> 452\u001b[0m \u001b[39mreturn\u001b[39;00m libsvm\u001b[39m.\u001b[39;49mpredict(\n\u001b[0;32m    453\u001b[0m     X,\n\u001b[0;32m    454\u001b[0m     \u001b[39mself\u001b[39;49m\u001b[39m.\u001b[39;49msupport_,\n\u001b[0;32m    455\u001b[0m     \u001b[39mself\u001b[39;49m\u001b[39m.\u001b[39;49msupport_vectors_,\n\u001b[0;32m    456\u001b[0m     \u001b[39mself\u001b[39;49m\u001b[39m.\u001b[39;49m_n_support,\n\u001b[0;32m    457\u001b[0m     \u001b[39mself\u001b[39;49m\u001b[39m.\u001b[39;49m_dual_coef_,\n\u001b[0;32m    458\u001b[0m     \u001b[39mself\u001b[39;49m\u001b[39m.\u001b[39;49m_intercept_,\n\u001b[0;32m    459\u001b[0m     \u001b[39mself\u001b[39;49m\u001b[39m.\u001b[39;49m_probA,\n\u001b[0;32m    460\u001b[0m     \u001b[39mself\u001b[39;49m\u001b[39m.\u001b[39;49m_probB,\n\u001b[0;32m    461\u001b[0m     svm_type\u001b[39m=\u001b[39;49msvm_type,\n\u001b[0;32m    462\u001b[0m     kernel\u001b[39m=\u001b[39;49mkernel,\n\u001b[0;32m    463\u001b[0m     degree\u001b[39m=\u001b[39;49m\u001b[39mself\u001b[39;49m\u001b[39m.\u001b[39;49mdegree,\n\u001b[0;32m    464\u001b[0m     coef0\u001b[39m=\u001b[39;49m\u001b[39mself\u001b[39;49m\u001b[39m.\u001b[39;49mcoef0,\n\u001b[0;32m    465\u001b[0m     gamma\u001b[39m=\u001b[39;49m\u001b[39mself\u001b[39;49m\u001b[39m.\u001b[39;49m_gamma,\n\u001b[0;32m    466\u001b[0m     cache_size\u001b[39m=\u001b[39;49m\u001b[39mself\u001b[39;49m\u001b[39m.\u001b[39;49mcache_size,\n\u001b[0;32m    467\u001b[0m )\n",
      "\u001b[1;31mKeyboardInterrupt\u001b[0m: "
     ]
    }
   ],
   "source": [
    "from sklearn.model_selection import cross_val_score\n",
    "\n",
    "# Defina os modelos\n",
    "models = {\n",
    "    'Logistic Regression': LogisticRegression(),\n",
    "    'K-Nearest Neighbors': KNeighborsClassifier(),\n",
    "    'Gaussian Naïve Bayes': GaussianNB(),\n",
    "    'Support Vector Machines': SVC(),\n",
    "    'Decision Tree Classifier': DecisionTreeClassifier(),\n",
    "    'Random Forest Tree Classifier': RandomForestClassifier(),\n",
    "    'Artificial Neural Networks': MLPClassifier(),\n",
    "}\n",
    "\n",
    "# Loop através dos modelos\n",
    "for model_name, model in models.items():\n",
    "    # Treine e avalie o modelo usando validação cruzada (k-fold)\n",
    "    scores = cross_val_score(model, X_train, y_train, cv=5, scoring='accuracy')\n",
    "    \n",
    "    # Calcule a média das pontuações\n",
    "    mean_score = scores.mean()\n",
    "    \n",
    "    # Ajuste o modelo aos dados de treinamento\n",
    "    model.fit(X_train, y_train)\n",
    "    \n",
    "    # Faça previsões nos dados de teste\n",
    "    y_pred = model.predict(X_test)\n",
    "    \n",
    "    # Avalie o modelo\n",
    "    accuracy = accuracy_score(y_test, y_pred)\n",
    "    report = classification_report(y_test, y_pred)\n",
    "    \n",
    "    print(f\"Model: {model_name}\")\n",
    "    print(f\"Cross-Validation Mean Accuracy: {mean_score:}\")\n",
    "    print(f\"Accuracy on Test Data: {accuracy:}\")\n",
    "    print(\"Classification Report:\\n\", report)\n",
    "    print(\"=\"*50)\n"
   ]
  },
  {
   "cell_type": "code",
   "execution_count": 49,
   "id": "681d2b2e",
   "metadata": {},
   "outputs": [],
   "source": [
    "#askjdfhsaçkjda"
   ]
  },
  {
   "cell_type": "code",
   "execution_count": 50,
   "id": "0a97a4e1",
   "metadata": {},
   "outputs": [
    {
     "data": {
      "text/html": [
       "<div>\n",
       "<style scoped>\n",
       "    .dataframe tbody tr th:only-of-type {\n",
       "        vertical-align: middle;\n",
       "    }\n",
       "\n",
       "    .dataframe tbody tr th {\n",
       "        vertical-align: top;\n",
       "    }\n",
       "\n",
       "    .dataframe thead th {\n",
       "        text-align: right;\n",
       "    }\n",
       "</style>\n",
       "<table border=\"1\" class=\"dataframe\">\n",
       "  <thead>\n",
       "    <tr style=\"text-align: right;\">\n",
       "      <th></th>\n",
       "      <th>marca</th>\n",
       "      <th>precoComDesconto</th>\n",
       "      <th>precoSemDesconto</th>\n",
       "      <th>Tamanho</th>\n",
       "      <th>Condicao</th>\n",
       "      <th>Cores</th>\n",
       "      <th>VENDIDO</th>\n",
       "    </tr>\n",
       "  </thead>\n",
       "  <tbody>\n",
       "    <tr>\n",
       "      <th>marca</th>\n",
       "      <td>1.000000</td>\n",
       "      <td>-0.489787</td>\n",
       "      <td>-0.598729</td>\n",
       "      <td>0.762376</td>\n",
       "      <td>0.645844</td>\n",
       "      <td>0.745034</td>\n",
       "      <td>0.008838</td>\n",
       "    </tr>\n",
       "    <tr>\n",
       "      <th>precoComDesconto</th>\n",
       "      <td>-0.489787</td>\n",
       "      <td>1.000000</td>\n",
       "      <td>0.501940</td>\n",
       "      <td>-0.570380</td>\n",
       "      <td>-0.524472</td>\n",
       "      <td>-0.555758</td>\n",
       "      <td>-0.090740</td>\n",
       "    </tr>\n",
       "    <tr>\n",
       "      <th>precoSemDesconto</th>\n",
       "      <td>-0.598729</td>\n",
       "      <td>0.501940</td>\n",
       "      <td>1.000000</td>\n",
       "      <td>-0.688901</td>\n",
       "      <td>-0.627197</td>\n",
       "      <td>-0.679190</td>\n",
       "      <td>-0.048811</td>\n",
       "    </tr>\n",
       "    <tr>\n",
       "      <th>Tamanho</th>\n",
       "      <td>0.762376</td>\n",
       "      <td>-0.570380</td>\n",
       "      <td>-0.688901</td>\n",
       "      <td>1.000000</td>\n",
       "      <td>0.746884</td>\n",
       "      <td>0.854677</td>\n",
       "      <td>0.009489</td>\n",
       "    </tr>\n",
       "    <tr>\n",
       "      <th>Condicao</th>\n",
       "      <td>0.645844</td>\n",
       "      <td>-0.524472</td>\n",
       "      <td>-0.627197</td>\n",
       "      <td>0.746884</td>\n",
       "      <td>1.000000</td>\n",
       "      <td>0.741444</td>\n",
       "      <td>0.012383</td>\n",
       "    </tr>\n",
       "    <tr>\n",
       "      <th>Cores</th>\n",
       "      <td>0.745034</td>\n",
       "      <td>-0.555758</td>\n",
       "      <td>-0.679190</td>\n",
       "      <td>0.854677</td>\n",
       "      <td>0.741444</td>\n",
       "      <td>1.000000</td>\n",
       "      <td>-0.005918</td>\n",
       "    </tr>\n",
       "    <tr>\n",
       "      <th>VENDIDO</th>\n",
       "      <td>0.008838</td>\n",
       "      <td>-0.090740</td>\n",
       "      <td>-0.048811</td>\n",
       "      <td>0.009489</td>\n",
       "      <td>0.012383</td>\n",
       "      <td>-0.005918</td>\n",
       "      <td>1.000000</td>\n",
       "    </tr>\n",
       "  </tbody>\n",
       "</table>\n",
       "</div>"
      ],
      "text/plain": [
       "                     marca  precoComDesconto  precoSemDesconto   Tamanho  \\\n",
       "marca             1.000000         -0.489787         -0.598729  0.762376   \n",
       "precoComDesconto -0.489787          1.000000          0.501940 -0.570380   \n",
       "precoSemDesconto -0.598729          0.501940          1.000000 -0.688901   \n",
       "Tamanho           0.762376         -0.570380         -0.688901  1.000000   \n",
       "Condicao          0.645844         -0.524472         -0.627197  0.746884   \n",
       "Cores             0.745034         -0.555758         -0.679190  0.854677   \n",
       "VENDIDO           0.008838         -0.090740         -0.048811  0.009489   \n",
       "\n",
       "                  Condicao     Cores   VENDIDO  \n",
       "marca             0.645844  0.745034  0.008838  \n",
       "precoComDesconto -0.524472 -0.555758 -0.090740  \n",
       "precoSemDesconto -0.627197 -0.679190 -0.048811  \n",
       "Tamanho           0.746884  0.854677  0.009489  \n",
       "Condicao          1.000000  0.741444  0.012383  \n",
       "Cores             0.741444  1.000000 -0.005918  \n",
       "VENDIDO           0.012383 -0.005918  1.000000  "
      ]
     },
     "execution_count": 50,
     "metadata": {},
     "output_type": "execute_result"
    }
   ],
   "source": [
    "df.corr()"
   ]
  },
  {
   "cell_type": "code",
   "execution_count": 1,
   "id": "683ab3ec",
   "metadata": {},
   "outputs": [],
   "source": [
    "#comentario das proximas atualizacoes"
   ]
  }
 ],
 "metadata": {
  "kernelspec": {
   "display_name": "Python 3.10.6 64-bit",
   "language": "python",
   "name": "python3"
  },
  "language_info": {
   "codemirror_mode": {
    "name": "ipython",
    "version": 3
   },
   "file_extension": ".py",
   "mimetype": "text/x-python",
   "name": "python",
   "nbconvert_exporter": "python",
   "pygments_lexer": "ipython3",
   "version": "3.10.6"
  },
  "vscode": {
   "interpreter": {
    "hash": "26de051ba29f2982a8de78e945f0abaf191376122a1563185a90213a26c5da77"
   }
  }
 },
 "nbformat": 4,
 "nbformat_minor": 5
}
