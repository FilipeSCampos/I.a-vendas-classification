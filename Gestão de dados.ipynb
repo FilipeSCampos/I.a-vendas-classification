{
 "cells": [
  {
   "cell_type": "code",
   "execution_count": 70,
   "id": "148f32ae",
   "metadata": {
    "scrolled": true
   },
   "outputs": [],
   "source": [
    "import pandas as pd\n",
    "import numpy as np\n",
    "import matplotlib.pyplot as plt\n",
    "import seaborn as sns\n",
    "\n",
    "from sklearn.preprocessing import LabelEncoder, OneHotEncoder, StandardScaler\n",
    "from sklearn.model_selection import train_test_split\n",
    "from sklearn.model_selection import GridSearchCV, StratifiedKFold, StratifiedShuffleSplit\n",
    "\n",
    "from sklearn.linear_model import LogisticRegression\n",
    "from sklearn.neighbors import KNeighborsClassifier\n",
    "from sklearn.naive_bayes import GaussianNB\n",
    "from sklearn.svm import SVC\n",
    "from sklearn.tree import DecisionTreeClassifier\n",
    "from sklearn.ensemble import RandomForestClassifier\n",
    "\n",
    "from sklearn.neural_network import MLPClassifier\n",
    "\n",
    "from sklearn.metrics import mean_absolute_error, accuracy_score, classification_report, confusion_matrix"
   ]
  },
  {
   "cell_type": "code",
   "execution_count": 67,
   "id": "7264d06e",
   "metadata": {},
   "outputs": [
    {
     "name": "stdout",
     "output_type": "stream",
     "text": [
      "Defaulting to user installation because normal site-packages is not writeable\n",
      "Requirement already satisfied: xgboost in c:\\users\\filipe.sampaio\\appdata\\roaming\\python\\python39\\site-packages (2.0.0)\n",
      "Requirement already satisfied: scipy in c:\\programdata\\anaconda3\\lib\\site-packages (from xgboost) (1.7.3)\n",
      "Requirement already satisfied: numpy in c:\\programdata\\anaconda3\\lib\\site-packages (from xgboost) (1.21.5)\n"
     ]
    }
   ],
   "source": [
    "!pip install xgboost"
   ]
  },
  {
   "cell_type": "code",
   "execution_count": 15,
   "id": "1bd72df8",
   "metadata": {},
   "outputs": [],
   "source": [
    "df = pd.read_csv('train.csv')"
   ]
  },
  {
   "cell_type": "code",
   "execution_count": 16,
   "id": "f6f92df2",
   "metadata": {},
   "outputs": [],
   "source": [
    "df = df.drop(['Unnamed: 0'], axis = 1)"
   ]
  },
  {
   "cell_type": "code",
   "execution_count": 18,
   "id": "1ec49af7",
   "metadata": {},
   "outputs": [
    {
     "data": {
      "text/html": [
       "<div>\n",
       "<style scoped>\n",
       "    .dataframe tbody tr th:only-of-type {\n",
       "        vertical-align: middle;\n",
       "    }\n",
       "\n",
       "    .dataframe tbody tr th {\n",
       "        vertical-align: top;\n",
       "    }\n",
       "\n",
       "    .dataframe thead th {\n",
       "        text-align: right;\n",
       "    }\n",
       "</style>\n",
       "<table border=\"1\" class=\"dataframe\">\n",
       "  <thead>\n",
       "    <tr style=\"text-align: right;\">\n",
       "      <th></th>\n",
       "      <th>VENDIDO</th>\n",
       "    </tr>\n",
       "  </thead>\n",
       "  <tbody>\n",
       "    <tr>\n",
       "      <th>count</th>\n",
       "      <td>78331.00000</td>\n",
       "    </tr>\n",
       "    <tr>\n",
       "      <th>mean</th>\n",
       "      <td>0.60732</td>\n",
       "    </tr>\n",
       "    <tr>\n",
       "      <th>std</th>\n",
       "      <td>0.48835</td>\n",
       "    </tr>\n",
       "    <tr>\n",
       "      <th>min</th>\n",
       "      <td>0.00000</td>\n",
       "    </tr>\n",
       "    <tr>\n",
       "      <th>25%</th>\n",
       "      <td>0.00000</td>\n",
       "    </tr>\n",
       "    <tr>\n",
       "      <th>50%</th>\n",
       "      <td>1.00000</td>\n",
       "    </tr>\n",
       "    <tr>\n",
       "      <th>75%</th>\n",
       "      <td>1.00000</td>\n",
       "    </tr>\n",
       "    <tr>\n",
       "      <th>max</th>\n",
       "      <td>1.00000</td>\n",
       "    </tr>\n",
       "  </tbody>\n",
       "</table>\n",
       "</div>"
      ],
      "text/plain": [
       "           VENDIDO\n",
       "count  78331.00000\n",
       "mean       0.60732\n",
       "std        0.48835\n",
       "min        0.00000\n",
       "25%        0.00000\n",
       "50%        1.00000\n",
       "75%        1.00000\n",
       "max        1.00000"
      ]
     },
     "execution_count": 18,
     "metadata": {},
     "output_type": "execute_result"
    }
   ],
   "source": [
    "df.describe()"
   ]
  },
  {
   "cell_type": "code",
   "execution_count": 19,
   "id": "a9df76c5",
   "metadata": {},
   "outputs": [
    {
     "name": "stdout",
     "output_type": "stream",
     "text": [
      "<class 'pandas.core.frame.DataFrame'>\n",
      "RangeIndex: 78331 entries, 0 to 78330\n",
      "Data columns (total 9 columns):\n",
      " #   Column            Non-Null Count  Dtype \n",
      "---  ------            --------------  ----- \n",
      " 0   marca             77973 non-null  object\n",
      " 1   nomeDaPeca        78331 non-null  object\n",
      " 2   precoComDesconto  78331 non-null  object\n",
      " 3   precoSemDesconto  76821 non-null  object\n",
      " 4   Descricao         78323 non-null  object\n",
      " 5   Tamanho           78055 non-null  object\n",
      " 6   Condicao          78331 non-null  object\n",
      " 7   Cores             76728 non-null  object\n",
      " 8   VENDIDO           78331 non-null  int64 \n",
      "dtypes: int64(1), object(8)\n",
      "memory usage: 5.4+ MB\n"
     ]
    }
   ],
   "source": [
    "df.info()"
   ]
  },
  {
   "cell_type": "code",
   "execution_count": 27,
   "id": "521dcfc5",
   "metadata": {},
   "outputs": [],
   "source": [
    "df['precoComDesconto'] = pd.to_numeric(df['precoComDesconto'].str.replace('[^0-9.]', '', regex=True), errors='coerce')\n",
    "df['precoSemDesconto'] = pd.to_numeric(df['precoSemDesconto'].str.replace('[^0-9.]', '', regex=True), errors='coerce')\n"
   ]
  },
  {
   "cell_type": "code",
   "execution_count": 28,
   "id": "a189eda3",
   "metadata": {},
   "outputs": [],
   "source": [
    "df['precoComDesconto'] = pd.to_numeric(df['precoComDesconto'])\n",
    "df['precoSemDesconto'] = pd.to_numeric(df['precoSemDesconto'])\n"
   ]
  },
  {
   "cell_type": "code",
   "execution_count": 33,
   "id": "0943ec14",
   "metadata": {},
   "outputs": [
    {
     "data": {
      "text/plain": [
       "array(['m', '38', ' 39', 'p', ' 38', ' 36', ' U', 'u', '34', ' M', '36',\n",
       "       ' 42', 'g', 'pp', '42', ' 35', '40', ' P', '6', nan, '14', ' 34',\n",
       "       ' 40', ' G', 'gg', '44', '3m', '50', '3', '4', ' PP', '8', '33',\n",
       "       ' 6M', ' 3M', ' 10M', ' 12M', '12', '37', '35', '48', '16', ' RN',\n",
       "       '2a', ' GG', ' 37', ' 44', '1', 'rn', '6m', '32', '21', '12m',\n",
       "       'xgg', '18m', ' 8A', '7', ' 12A', '9m', '46', ' 2A', '5', '2',\n",
       "       '39', '54', ' 20', ' 1A', ' 10A', ' 18', '10', '29', ' 4A', '30',\n",
       "       ' 50', ' 6A', ' 48', ' 46', ' 16', '52', '11', ' 17', ' 33', '13',\n",
       "       '22', ' 14A', '41', '20', '9', ' 21', ' 19', '31', '25', ' 41',\n",
       "       '58', '17', ' 13', ' 26', '19', '28', '23', '26', ' 14', ' 4',\n",
       "       '24', '43', ' 3A', ' 32', '56', ' 1', ' XLG', ' 23', ' 15', 'M',\n",
       "       '27', '18', ' G3', ' 24', '15', ' 54', ' 3', ' 56', ' G4', '45',\n",
       "       ' 5G', ' 28', '60', ' 27', 'P'], dtype=object)"
      ]
     },
     "execution_count": 33,
     "metadata": {},
     "output_type": "execute_result"
    }
   ],
   "source": [
    "df['Tamanho'].unique()"
   ]
  },
  {
   "cell_type": "code",
   "execution_count": 50,
   "id": "862bd7fd",
   "metadata": {},
   "outputs": [
    {
     "data": {
      "text/html": [
       "<div>\n",
       "<style scoped>\n",
       "    .dataframe tbody tr th:only-of-type {\n",
       "        vertical-align: middle;\n",
       "    }\n",
       "\n",
       "    .dataframe tbody tr th {\n",
       "        vertical-align: top;\n",
       "    }\n",
       "\n",
       "    .dataframe thead th {\n",
       "        text-align: right;\n",
       "    }\n",
       "</style>\n",
       "<table border=\"1\" class=\"dataframe\">\n",
       "  <thead>\n",
       "    <tr style=\"text-align: right;\">\n",
       "      <th></th>\n",
       "      <th>marca</th>\n",
       "      <th>nomeDaPeca</th>\n",
       "      <th>precoComDesconto</th>\n",
       "      <th>precoSemDesconto</th>\n",
       "      <th>Descricao</th>\n",
       "      <th>Tamanho</th>\n",
       "      <th>Condicao</th>\n",
       "      <th>Cores</th>\n",
       "      <th>VENDIDO</th>\n",
       "    </tr>\n",
       "  </thead>\n",
       "  <tbody>\n",
       "    <tr>\n",
       "      <th>0</th>\n",
       "      <td>sem marca</td>\n",
       "      <td>\\nBlusa Verde Babados\\n</td>\n",
       "      <td>64.00</td>\n",
       "      <td>160.0</td>\n",
       "      <td>Blusa verde com modelagem básica. Peça com bab...</td>\n",
       "      <td>m</td>\n",
       "      <td>gentilmente usada</td>\n",
       "      <td>verde</td>\n",
       "      <td>0</td>\n",
       "    </tr>\n",
       "    <tr>\n",
       "      <th>1</th>\n",
       "      <td>zara</td>\n",
       "      <td>\\nSaia Lápis Zara\\n</td>\n",
       "      <td>57.00</td>\n",
       "      <td>219.0</td>\n",
       "      <td>Marca: Zara Woman</td>\n",
       "      <td>38</td>\n",
       "      <td>gentilmente usada</td>\n",
       "      <td>Detalhe: Dois bolsos frontais, forro, zíper tr...</td>\n",
       "      <td>1</td>\n",
       "    </tr>\n",
       "    <tr>\n",
       "      <th>2</th>\n",
       "      <td>1 a 9</td>\n",
       "      <td>\\nJeans Skinny 1 a 9\\n</td>\n",
       "      <td>69.00</td>\n",
       "      <td>279.0</td>\n",
       "      <td>Medidas: cintura 32cm, quadril 43cm, comprime...</td>\n",
       "      <td>38</td>\n",
       "      <td>gentilmente usada</td>\n",
       "      <td>azul</td>\n",
       "      <td>0</td>\n",
       "    </tr>\n",
       "    <tr>\n",
       "      <th>3</th>\n",
       "      <td>Coach</td>\n",
       "      <td>Sapatilha Monograma</td>\n",
       "      <td>25000.00</td>\n",
       "      <td>87500.0</td>\n",
       "      <td>Sapatilha caramelo. Possui monograma em toda a...</td>\n",
       "      <td>39</td>\n",
       "      <td>Usado</td>\n",
       "      <td>\\nCaramelo \\nPreto \\n</td>\n",
       "      <td>1</td>\n",
       "    </tr>\n",
       "    <tr>\n",
       "      <th>4</th>\n",
       "      <td>primeiro item teen</td>\n",
       "      <td>\\nShorts Feminino Teen Corações\\n</td>\n",
       "      <td>20.97</td>\n",
       "      <td>69.9</td>\n",
       "      <td>Shorts feminino, com estampa de corações, do P...</td>\n",
       "      <td>m</td>\n",
       "      <td>gentilmente usada</td>\n",
       "      <td>colorido</td>\n",
       "      <td>0</td>\n",
       "    </tr>\n",
       "    <tr>\n",
       "      <th>...</th>\n",
       "      <td>...</td>\n",
       "      <td>...</td>\n",
       "      <td>...</td>\n",
       "      <td>...</td>\n",
       "      <td>...</td>\n",
       "      <td>...</td>\n",
       "      <td>...</td>\n",
       "      <td>...</td>\n",
       "      <td>...</td>\n",
       "    </tr>\n",
       "    <tr>\n",
       "      <th>78326</th>\n",
       "      <td>mandi</td>\n",
       "      <td>\\nCamisa Preta Mandi\\n</td>\n",
       "      <td>15.00</td>\n",
       "      <td>69.9</td>\n",
       "      <td>Camisa feminina, preta, da Mandi. Tecido plano...</td>\n",
       "      <td>m</td>\n",
       "      <td>gentilmente usada</td>\n",
       "      <td>preto</td>\n",
       "      <td>0</td>\n",
       "    </tr>\n",
       "    <tr>\n",
       "      <th>78327</th>\n",
       "      <td>mo</td>\n",
       "      <td>\\nSaia Branca Bordada\\n</td>\n",
       "      <td>33.75</td>\n",
       "      <td>135.0</td>\n",
       "      <td>Saia branca com bordados em linha prata, azul ...</td>\n",
       "      <td>p</td>\n",
       "      <td>gentilmente usada</td>\n",
       "      <td>branco</td>\n",
       "      <td>1</td>\n",
       "    </tr>\n",
       "    <tr>\n",
       "      <th>78328</th>\n",
       "      <td>luigi bertolli</td>\n",
       "      <td>\\nVestido Floral Preto e Vermelho Luigi Bertol...</td>\n",
       "      <td>27.48</td>\n",
       "      <td>89.9</td>\n",
       "      <td>Vestido preto com flores vermelhas, da Luigi B...</td>\n",
       "      <td>gg</td>\n",
       "      <td>gentilmente usada</td>\n",
       "      <td>colorido</td>\n",
       "      <td>1</td>\n",
       "    </tr>\n",
       "    <tr>\n",
       "      <th>78329</th>\n",
       "      <td>Zara</td>\n",
       "      <td>Blazer Tweed Bege</td>\n",
       "      <td>7000.00</td>\n",
       "      <td>28000.0</td>\n",
       "      <td>Blazer em tweed, nas cores bege e dourado. Pos...</td>\n",
       "      <td>P</td>\n",
       "      <td>Usado</td>\n",
       "      <td>\\nBege \\n</td>\n",
       "      <td>1</td>\n",
       "    </tr>\n",
       "    <tr>\n",
       "      <th>78330</th>\n",
       "      <td>Zara</td>\n",
       "      <td>Blusa Estampa Animal</td>\n",
       "      <td>4000.00</td>\n",
       "      <td>15000.0</td>\n",
       "      <td>Blusinha com estampa animal na cor marrom. Pos...</td>\n",
       "      <td>P</td>\n",
       "      <td>Usado</td>\n",
       "      <td>\\nAnimal print \\n</td>\n",
       "      <td>1</td>\n",
       "    </tr>\n",
       "  </tbody>\n",
       "</table>\n",
       "<p>78331 rows × 9 columns</p>\n",
       "</div>"
      ],
      "text/plain": [
       "                    marca                                         nomeDaPeca  \\\n",
       "0               sem marca                            \\nBlusa Verde Babados\\n   \n",
       "1                    zara                                \\nSaia Lápis Zara\\n   \n",
       "2                   1 a 9                             \\nJeans Skinny 1 a 9\\n   \n",
       "3                   Coach                                Sapatilha Monograma   \n",
       "4      primeiro item teen                  \\nShorts Feminino Teen Corações\\n   \n",
       "...                   ...                                                ...   \n",
       "78326               mandi                             \\nCamisa Preta Mandi\\n   \n",
       "78327                  mo                            \\nSaia Branca Bordada\\n   \n",
       "78328      luigi bertolli  \\nVestido Floral Preto e Vermelho Luigi Bertol...   \n",
       "78329                Zara                                 Blazer Tweed Bege    \n",
       "78330                Zara                               Blusa Estampa Animal   \n",
       "\n",
       "       precoComDesconto  precoSemDesconto  \\\n",
       "0                 64.00             160.0   \n",
       "1                 57.00             219.0   \n",
       "2                 69.00             279.0   \n",
       "3              25000.00           87500.0   \n",
       "4                 20.97              69.9   \n",
       "...                 ...               ...   \n",
       "78326             15.00              69.9   \n",
       "78327             33.75             135.0   \n",
       "78328             27.48              89.9   \n",
       "78329           7000.00           28000.0   \n",
       "78330           4000.00           15000.0   \n",
       "\n",
       "                                               Descricao Tamanho  \\\n",
       "0      Blusa verde com modelagem básica. Peça com bab...       m   \n",
       "1                                      Marca: Zara Woman      38   \n",
       "2       Medidas: cintura 32cm, quadril 43cm, comprime...      38   \n",
       "3      Sapatilha caramelo. Possui monograma em toda a...      39   \n",
       "4      Shorts feminino, com estampa de corações, do P...       m   \n",
       "...                                                  ...     ...   \n",
       "78326  Camisa feminina, preta, da Mandi. Tecido plano...       m   \n",
       "78327  Saia branca com bordados em linha prata, azul ...       p   \n",
       "78328  Vestido preto com flores vermelhas, da Luigi B...      gg   \n",
       "78329  Blazer em tweed, nas cores bege e dourado. Pos...       P   \n",
       "78330  Blusinha com estampa animal na cor marrom. Pos...       P   \n",
       "\n",
       "                Condicao                                              Cores  \\\n",
       "0      gentilmente usada                                              verde   \n",
       "1      gentilmente usada  Detalhe: Dois bolsos frontais, forro, zíper tr...   \n",
       "2      gentilmente usada                                               azul   \n",
       "3                  Usado                              \\nCaramelo \\nPreto \\n   \n",
       "4      gentilmente usada                                           colorido   \n",
       "...                  ...                                                ...   \n",
       "78326  gentilmente usada                                              preto   \n",
       "78327  gentilmente usada                                             branco   \n",
       "78328  gentilmente usada                                           colorido   \n",
       "78329              Usado                                          \\nBege \\n   \n",
       "78330              Usado                                  \\nAnimal print \\n   \n",
       "\n",
       "       VENDIDO  \n",
       "0            0  \n",
       "1            1  \n",
       "2            0  \n",
       "3            1  \n",
       "4            0  \n",
       "...        ...  \n",
       "78326        0  \n",
       "78327        1  \n",
       "78328        1  \n",
       "78329        1  \n",
       "78330        1  \n",
       "\n",
       "[78331 rows x 9 columns]"
      ]
     },
     "execution_count": 50,
     "metadata": {},
     "output_type": "execute_result"
    }
   ],
   "source": [
    "df"
   ]
  },
  {
   "cell_type": "code",
   "execution_count": 39,
   "id": "0aee9060",
   "metadata": {},
   "outputs": [],
   "source": [
    "df2['precoComDesconto'] = pd.to_numeric(df2['precoComDesconto'].str.replace('[^0-9.]', '', regex=True), errors='coerce')\n",
    "df2['precoSemDesconto'] = pd.to_numeric(df2['precoSemDesconto'].str.replace('[^0-9.]', '', regex=True), errors='coerce')\n"
   ]
  },
  {
   "cell_type": "code",
   "execution_count": 40,
   "id": "902fed5e",
   "metadata": {},
   "outputs": [],
   "source": [
    "df2['precoComDesconto'] = pd.to_numeric(df['precoComDesconto'])\n",
    "df2['precoSemDesconto'] = pd.to_numeric(df['precoSemDesconto'])\n"
   ]
  },
  {
   "cell_type": "code",
   "execution_count": 49,
   "id": "2ba418f3",
   "metadata": {},
   "outputs": [
    {
     "data": {
      "text/plain": [
       "marca                358\n",
       "nomeDaPeca             0\n",
       "precoComDesconto       0\n",
       "precoSemDesconto    1510\n",
       "Descricao              8\n",
       "Tamanho              276\n",
       "Condicao               0\n",
       "Cores               1603\n",
       "VENDIDO                0\n",
       "dtype: int64"
      ]
     },
     "execution_count": 49,
     "metadata": {},
     "output_type": "execute_result"
    }
   ],
   "source": [
    "df.isnull().sum()"
   ]
  },
  {
   "cell_type": "code",
   "execution_count": 51,
   "id": "afbb12dc",
   "metadata": {},
   "outputs": [
    {
     "data": {
      "image/png": "[encoded data removed]",
      "text/plain": [
       "<Figure size 432x288 with 1 Axes>"
      ]
     },
     "metadata": {},
     "output_type": "display_data"
    }
   ],
   "source": [
    "sns.set(style=\"darkgrid\")\n",
    "ax = sns.countplot(x=\"VENDIDO\", data=df, palette=sns.xkcd_palette([\"azure\", \"light red\"]))\n",
    "plt.xlabel('Vendido')\n",
    "plt.ylabel('Count')\n",
    "plt.show()"
   ]
  },
  {
   "cell_type": "code",
   "execution_count": 53,
   "id": "460dc770",
   "metadata": {},
   "outputs": [
    {
     "data": {
      "image/png": "[encoded data removed]",
      "text/plain": [
       "<Figure size 576x288 with 1 Axes>"
      ]
     },
     "metadata": {},
     "output_type": "display_data"
    }
   ],
   "source": [
    "fig=plt.figure(figsize=(8,4))\n",
    "for x in [0,1]:\n",
    "    df['precoSemDesconto'][df['VENDIDO']==x].plot(kind='kde')\n",
    "    \n",
    "\n",
    "\n",
    "plt.show()"
   ]
  },
  {
   "cell_type": "code",
   "execution_count": 54,
   "id": "86342aaa",
   "metadata": {
    "scrolled": false
   },
   "outputs": [
    {
     "data": {
      "text/plain": [
       "<AxesSubplot:>"
      ]
     },
     "execution_count": 54,
     "metadata": {},
     "output_type": "execute_result"
    },
    {
     "data": {
      "image/png": "[encoded data removed]",
      "text/plain": [
       "<Figure size 1080x720 with 2 Axes>"
      ]
     },
     "metadata": {},
     "output_type": "display_data"
    }
   ],
   "source": [
    "fig, ax = plt.subplots(figsize=(15,10))\n",
    "sns.heatmap(df.corr(), annot = True, ax=ax)"
   ]
  },
  {
   "cell_type": "code",
   "execution_count": 55,
   "id": "c93989fc",
   "metadata": {},
   "outputs": [
    {
     "data": {
      "text/plain": [
       "array(['gentilmente usada', 'Usado', 'Novo com etiqueta',\n",
       "       'nova com etiqueta', 'Novo sem etiqueta', 'novo com etiqueta'],\n",
       "      dtype=object)"
      ]
     },
     "execution_count": 55,
     "metadata": {},
     "output_type": "execute_result"
    }
   ],
   "source": [
    "df['Condicao'].unique()"
   ]
  },
  {
   "cell_type": "code",
   "execution_count": 64,
   "id": "81ab3b8c",
   "metadata": {},
   "outputs": [],
   "source": [
    "# Codificação de Variáveis Categóricas\n",
    "label_encoders = {}\n",
    "categorical_columns = ['marca', 'Tamanho', 'Condicao', 'Cores']\n",
    "for column in categorical_columns:\n",
    "    label_encoders[column] = LabelEncoder()\n",
    "    df[column] = label_encoders[column].fit_transform(df[column])\n",
    "    \n",
    "    "
   ]
  },
  {
   "cell_type": "code",
   "execution_count": 74,
   "id": "b4aac8af",
   "metadata": {
    "scrolled": false
   },
   "outputs": [
    {
     "data": {
      "text/html": [
       "<div>\n",
       "<style scoped>\n",
       "    .dataframe tbody tr th:only-of-type {\n",
       "        vertical-align: middle;\n",
       "    }\n",
       "\n",
       "    .dataframe tbody tr th {\n",
       "        vertical-align: top;\n",
       "    }\n",
       "\n",
       "    .dataframe thead th {\n",
       "        text-align: right;\n",
       "    }\n",
       "</style>\n",
       "<table border=\"1\" class=\"dataframe\">\n",
       "  <thead>\n",
       "    <tr style=\"text-align: right;\">\n",
       "      <th></th>\n",
       "      <th>marca</th>\n",
       "      <th>precoComDesconto</th>\n",
       "      <th>precoSemDesconto</th>\n",
       "      <th>Tamanho</th>\n",
       "      <th>Condicao</th>\n",
       "      <th>Cores</th>\n",
       "      <th>VENDIDO</th>\n",
       "    </tr>\n",
       "  </thead>\n",
       "  <tbody>\n",
       "    <tr>\n",
       "      <th>0</th>\n",
       "      <td>9669</td>\n",
       "      <td>64.00</td>\n",
       "      <td>160.0</td>\n",
       "      <td>121</td>\n",
       "      <td>3</td>\n",
       "      <td>1939</td>\n",
       "      <td>0</td>\n",
       "    </tr>\n",
       "    <tr>\n",
       "      <th>1</th>\n",
       "      <td>11340</td>\n",
       "      <td>57.00</td>\n",
       "      <td>219.0</td>\n",
       "      <td>92</td>\n",
       "      <td>3</td>\n",
       "      <td>1454</td>\n",
       "      <td>1</td>\n",
       "    </tr>\n",
       "    <tr>\n",
       "      <th>2</th>\n",
       "      <td>229</td>\n",
       "      <td>69.00</td>\n",
       "      <td>279.0</td>\n",
       "      <td>92</td>\n",
       "      <td>3</td>\n",
       "      <td>1921</td>\n",
       "      <td>0</td>\n",
       "    </tr>\n",
       "    <tr>\n",
       "      <th>3</th>\n",
       "      <td>576</td>\n",
       "      <td>25000.00</td>\n",
       "      <td>87500.0</td>\n",
       "      <td>30</td>\n",
       "      <td>2</td>\n",
       "      <td>727</td>\n",
       "      <td>1</td>\n",
       "    </tr>\n",
       "    <tr>\n",
       "      <th>4</th>\n",
       "      <td>8922</td>\n",
       "      <td>20.97</td>\n",
       "      <td>69.9</td>\n",
       "      <td>121</td>\n",
       "      <td>3</td>\n",
       "      <td>1926</td>\n",
       "      <td>0</td>\n",
       "    </tr>\n",
       "    <tr>\n",
       "      <th>...</th>\n",
       "      <td>...</td>\n",
       "      <td>...</td>\n",
       "      <td>...</td>\n",
       "      <td>...</td>\n",
       "      <td>...</td>\n",
       "      <td>...</td>\n",
       "      <td>...</td>\n",
       "    </tr>\n",
       "    <tr>\n",
       "      <th>78326</th>\n",
       "      <td>7282</td>\n",
       "      <td>15.00</td>\n",
       "      <td>69.9</td>\n",
       "      <td>121</td>\n",
       "      <td>3</td>\n",
       "      <td>1935</td>\n",
       "      <td>0</td>\n",
       "    </tr>\n",
       "    <tr>\n",
       "      <th>78327</th>\n",
       "      <td>7833</td>\n",
       "      <td>33.75</td>\n",
       "      <td>135.0</td>\n",
       "      <td>122</td>\n",
       "      <td>3</td>\n",
       "      <td>1924</td>\n",
       "      <td>1</td>\n",
       "    </tr>\n",
       "    <tr>\n",
       "      <th>78328</th>\n",
       "      <td>7041</td>\n",
       "      <td>27.48</td>\n",
       "      <td>89.9</td>\n",
       "      <td>120</td>\n",
       "      <td>3</td>\n",
       "      <td>1926</td>\n",
       "      <td>1</td>\n",
       "    </tr>\n",
       "    <tr>\n",
       "      <th>78329</th>\n",
       "      <td>1611</td>\n",
       "      <td>7000.00</td>\n",
       "      <td>28000.0</td>\n",
       "      <td>53</td>\n",
       "      <td>2</td>\n",
       "      <td>478</td>\n",
       "      <td>1</td>\n",
       "    </tr>\n",
       "    <tr>\n",
       "      <th>78330</th>\n",
       "      <td>1611</td>\n",
       "      <td>4000.00</td>\n",
       "      <td>15000.0</td>\n",
       "      <td>53</td>\n",
       "      <td>2</td>\n",
       "      <td>174</td>\n",
       "      <td>1</td>\n",
       "    </tr>\n",
       "  </tbody>\n",
       "</table>\n",
       "<p>78331 rows × 7 columns</p>\n",
       "</div>"
      ],
      "text/plain": [
       "       marca  precoComDesconto  precoSemDesconto  Tamanho  Condicao  Cores  \\\n",
       "0       9669             64.00             160.0      121         3   1939   \n",
       "1      11340             57.00             219.0       92         3   1454   \n",
       "2        229             69.00             279.0       92         3   1921   \n",
       "3        576          25000.00           87500.0       30         2    727   \n",
       "4       8922             20.97              69.9      121         3   1926   \n",
       "...      ...               ...               ...      ...       ...    ...   \n",
       "78326   7282             15.00              69.9      121         3   1935   \n",
       "78327   7833             33.75             135.0      122         3   1924   \n",
       "78328   7041             27.48              89.9      120         3   1926   \n",
       "78329   1611           7000.00           28000.0       53         2    478   \n",
       "78330   1611           4000.00           15000.0       53         2    174   \n",
       "\n",
       "       VENDIDO  \n",
       "0            0  \n",
       "1            1  \n",
       "2            0  \n",
       "3            1  \n",
       "4            0  \n",
       "...        ...  \n",
       "78326        0  \n",
       "78327        1  \n",
       "78328        1  \n",
       "78329        1  \n",
       "78330        1  \n",
       "\n",
       "[78331 rows x 7 columns]"
      ]
     },
     "execution_count": 74,
     "metadata": {},
     "output_type": "execute_result"
    }
   ],
   "source": [
    "df"
   ]
  },
  {
   "cell_type": "code",
   "execution_count": 83,
   "id": "64f6767c",
   "metadata": {},
   "outputs": [],
   "source": [
    "X = df.drop(['VENDIDO'], axis=1)\n",
    "y = df['VENDIDO']"
   ]
  },
  {
   "cell_type": "code",
   "execution_count": 84,
   "id": "757b5611",
   "metadata": {},
   "outputs": [],
   "source": [
    "X_train, X_test, y_train, y_test = train_test_split(X, y, test_size=0.3, random_state=42)"
   ]
  },
  {
   "cell_type": "code",
   "execution_count": 85,
   "id": "bc57a807",
   "metadata": {},
   "outputs": [],
   "source": [
    "scaler = StandardScaler()\n",
    "X_train = scaler.fit_transform(X_train)\n",
    "X_test = scaler.transform(X_test)"
   ]
  },
  {
   "cell_type": "code",
   "execution_count": 80,
   "id": "4af3657b",
   "metadata": {},
   "outputs": [
    {
     "name": "stdout",
     "output_type": "stream",
     "text": [
      "marca                  0\n",
      "precoComDesconto       0\n",
      "precoSemDesconto    1510\n",
      "Tamanho                0\n",
      "Condicao               0\n",
      "Cores                  0\n",
      "VENDIDO                0\n",
      "dtype: int64\n"
     ]
    }
   ],
   "source": [
    "print(df.isnull().sum())"
   ]
  },
  {
   "cell_type": "code",
   "execution_count": 82,
   "id": "4480557a",
   "metadata": {},
   "outputs": [],
   "source": [
    "df.fillna(df.mean(), inplace=True)"
   ]
  },
  {
   "cell_type": "code",
   "execution_count": null,
   "id": "3f842d41",
   "metadata": {},
   "outputs": [
    {
     "name": "stdout",
     "output_type": "stream",
     "text": [
      "Model: Logistic Regression\n",
      "Cross-Validation Mean Accuracy: 0.612883207179611\n",
      "Accuracy on Test Data: 0.6120425531914894\n",
      "Classification Report:\n",
      "               precision    recall  f1-score   support\n",
      "\n",
      "           0       0.55      0.07      0.13      9253\n",
      "           1       0.62      0.96      0.75     14247\n",
      "\n",
      "    accuracy                           0.61     23500\n",
      "   macro avg       0.59      0.52      0.44     23500\n",
      "weighted avg       0.59      0.61      0.51     23500\n",
      "\n",
      "==================================================\n",
      "Model: K-Nearest Neighbors\n",
      "Cross-Validation Mean Accuracy: 0.595484302458883\n",
      "Accuracy on Test Data: 0.5952340425531915\n",
      "Classification Report:\n",
      "               precision    recall  f1-score   support\n",
      "\n",
      "           0       0.48      0.41      0.44      9253\n",
      "           1       0.65      0.72      0.68     14247\n",
      "\n",
      "    accuracy                           0.60     23500\n",
      "   macro avg       0.57      0.56      0.56     23500\n",
      "weighted avg       0.58      0.60      0.59     23500\n",
      "\n",
      "==================================================\n",
      "Model: Gaussian Naïve Bayes\n",
      "Cross-Validation Mean Accuracy: 0.6122266705609841\n",
      "Accuracy on Test Data: 0.6110212765957447\n",
      "Classification Report:\n",
      "               precision    recall  f1-score   support\n",
      "\n",
      "           0       0.52      0.15      0.23      9253\n",
      "           1       0.62      0.91      0.74     14247\n",
      "\n",
      "    accuracy                           0.61     23500\n",
      "   macro avg       0.57      0.53      0.48     23500\n",
      "weighted avg       0.58      0.61      0.54     23500\n",
      "\n",
      "==================================================\n"
     ]
    }
   ],
   "source": [
    "from sklearn.model_selection import cross_val_score\n",
    "\n",
    "# Defina os modelos\n",
    "models = {\n",
    "    'Logistic Regression': LogisticRegression(),\n",
    "    'K-Nearest Neighbors': KNeighborsClassifier(),\n",
    "    'Gaussian Naïve Bayes': GaussianNB(),\n",
    "    'Support Vector Machines': SVC(),\n",
    "    'Decision Tree Classifier': DecisionTreeClassifier(),\n",
    "    'Random Forest Tree Classifier': RandomForestClassifier(),\n",
    "    'Artificial Neural Networks': MLPClassifier(),\n",
    "}\n",
    "\n",
    "# Loop através dos modelos\n",
    "for model_name, model in models.items():\n",
    "    # Treine e avalie o modelo usando validação cruzada (k-fold)\n",
    "    scores = cross_val_score(model, X_train, y_train, cv=5, scoring='accuracy')\n",
    "    \n",
    "    # Calcule a média das pontuações\n",
    "    mean_score = scores.mean()\n",
    "    \n",
    "    # Ajuste o modelo aos dados de treinamento\n",
    "    model.fit(X_train, y_train)\n",
    "    \n",
    "    # Faça previsões nos dados de teste\n",
    "    y_pred = model.predict(X_test)\n",
    "    \n",
    "    # Avalie o modelo\n",
    "    accuracy = accuracy_score(y_test, y_pred)\n",
    "    report = classification_report(y_test, y_pred)\n",
    "    \n",
    "    print(f\"Model: {model_name}\")\n",
    "    print(f\"Cross-Validation Mean Accuracy: {mean_score:}\")\n",
    "    print(f\"Accuracy on Test Data: {accuracy:}\")\n",
    "    print(\"Classification Report:\\n\", report)\n",
    "    print(\"=\"*50)\n"
   ]
  }
 ],
 "metadata": {
  "kernelspec": {
   "display_name": "Python 3 (ipykernel)",
   "language": "python",
   "name": "python3"
  },
  "language_info": {
   "codemirror_mode": {
    "name": "ipython",
    "version": 3
   },
   "file_extension": ".py",
   "mimetype": "text/x-python",
   "name": "python",
   "nbconvert_exporter": "python",
   "pygments_lexer": "ipython3",
   "version": "3.9.12"
  }
 },
 "nbformat": 4,
 "nbformat_minor": 5
}
